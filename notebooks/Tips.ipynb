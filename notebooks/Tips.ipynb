{
  "nbformat": 4,
  "nbformat_minor": 0,
  "metadata": {
    "colab": {
      "provenance": [],
      "authorship_tag": "ABX9TyMDRybKTNTDbMM3ITBcs5Pt"
    },
    "kernelspec": {
      "name": "python3",
      "display_name": "Python 3"
    },
    "language_info": {
      "name": "python"
    }
  },
  "cells": [
    {
      "cell_type": "code",
      "source": [
        "import seaborn as sns\n",
        "import pandas as pd\n",
        "import numpy as np\n",
        "from scipy import stats\n",
        "import plotly.graph_objects as go\n",
        "import plotly.express as px"
      ],
      "metadata": {
        "id": "SbGF-nPCY1z7"
      },
      "execution_count": 4,
      "outputs": []
    },
    {
      "cell_type": "code",
      "source": [
        "df = sns.load_dataset('tips')\n",
        "df.to_csv('tips.csv', index=False)"
      ],
      "metadata": {
        "id": "DlfWQ5Hi01HD"
      },
      "execution_count": 5,
      "outputs": []
    },
    {
      "cell_type": "code",
      "source": [
        "df"
      ],
      "metadata": {
        "colab": {
          "base_uri": "https://localhost:8080/",
          "height": 424
        },
        "id": "62rAHT4p4V7S",
        "outputId": "480003aa-dfc2-4255-981f-4f0465959d85"
      },
      "execution_count": 6,
      "outputs": [
        {
          "output_type": "execute_result",
          "data": {
            "text/plain": [
              "     total_bill   tip     sex smoker   day    time  size\n",
              "0         16.99  1.01  Female     No   Sun  Dinner     2\n",
              "1         10.34  1.66    Male     No   Sun  Dinner     3\n",
              "2         21.01  3.50    Male     No   Sun  Dinner     3\n",
              "3         23.68  3.31    Male     No   Sun  Dinner     2\n",
              "4         24.59  3.61  Female     No   Sun  Dinner     4\n",
              "..          ...   ...     ...    ...   ...     ...   ...\n",
              "239       29.03  5.92    Male     No   Sat  Dinner     3\n",
              "240       27.18  2.00  Female    Yes   Sat  Dinner     2\n",
              "241       22.67  2.00    Male    Yes   Sat  Dinner     2\n",
              "242       17.82  1.75    Male     No   Sat  Dinner     2\n",
              "243       18.78  3.00  Female     No  Thur  Dinner     2\n",
              "\n",
              "[244 rows x 7 columns]"
            ],
            "text/html": [
              "\n",
              "  <div id=\"df-6cba2b9e-3186-4f3d-a6fa-1ae6969759db\" class=\"colab-df-container\">\n",
              "    <div>\n",
              "<style scoped>\n",
              "    .dataframe tbody tr th:only-of-type {\n",
              "        vertical-align: middle;\n",
              "    }\n",
              "\n",
              "    .dataframe tbody tr th {\n",
              "        vertical-align: top;\n",
              "    }\n",
              "\n",
              "    .dataframe thead th {\n",
              "        text-align: right;\n",
              "    }\n",
              "</style>\n",
              "<table border=\"1\" class=\"dataframe\">\n",
              "  <thead>\n",
              "    <tr style=\"text-align: right;\">\n",
              "      <th></th>\n",
              "      <th>total_bill</th>\n",
              "      <th>tip</th>\n",
              "      <th>sex</th>\n",
              "      <th>smoker</th>\n",
              "      <th>day</th>\n",
              "      <th>time</th>\n",
              "      <th>size</th>\n",
              "    </tr>\n",
              "  </thead>\n",
              "  <tbody>\n",
              "    <tr>\n",
              "      <th>0</th>\n",
              "      <td>16.99</td>\n",
              "      <td>1.01</td>\n",
              "      <td>Female</td>\n",
              "      <td>No</td>\n",
              "      <td>Sun</td>\n",
              "      <td>Dinner</td>\n",
              "      <td>2</td>\n",
              "    </tr>\n",
              "    <tr>\n",
              "      <th>1</th>\n",
              "      <td>10.34</td>\n",
              "      <td>1.66</td>\n",
              "      <td>Male</td>\n",
              "      <td>No</td>\n",
              "      <td>Sun</td>\n",
              "      <td>Dinner</td>\n",
              "      <td>3</td>\n",
              "    </tr>\n",
              "    <tr>\n",
              "      <th>2</th>\n",
              "      <td>21.01</td>\n",
              "      <td>3.50</td>\n",
              "      <td>Male</td>\n",
              "      <td>No</td>\n",
              "      <td>Sun</td>\n",
              "      <td>Dinner</td>\n",
              "      <td>3</td>\n",
              "    </tr>\n",
              "    <tr>\n",
              "      <th>3</th>\n",
              "      <td>23.68</td>\n",
              "      <td>3.31</td>\n",
              "      <td>Male</td>\n",
              "      <td>No</td>\n",
              "      <td>Sun</td>\n",
              "      <td>Dinner</td>\n",
              "      <td>2</td>\n",
              "    </tr>\n",
              "    <tr>\n",
              "      <th>4</th>\n",
              "      <td>24.59</td>\n",
              "      <td>3.61</td>\n",
              "      <td>Female</td>\n",
              "      <td>No</td>\n",
              "      <td>Sun</td>\n",
              "      <td>Dinner</td>\n",
              "      <td>4</td>\n",
              "    </tr>\n",
              "    <tr>\n",
              "      <th>...</th>\n",
              "      <td>...</td>\n",
              "      <td>...</td>\n",
              "      <td>...</td>\n",
              "      <td>...</td>\n",
              "      <td>...</td>\n",
              "      <td>...</td>\n",
              "      <td>...</td>\n",
              "    </tr>\n",
              "    <tr>\n",
              "      <th>239</th>\n",
              "      <td>29.03</td>\n",
              "      <td>5.92</td>\n",
              "      <td>Male</td>\n",
              "      <td>No</td>\n",
              "      <td>Sat</td>\n",
              "      <td>Dinner</td>\n",
              "      <td>3</td>\n",
              "    </tr>\n",
              "    <tr>\n",
              "      <th>240</th>\n",
              "      <td>27.18</td>\n",
              "      <td>2.00</td>\n",
              "      <td>Female</td>\n",
              "      <td>Yes</td>\n",
              "      <td>Sat</td>\n",
              "      <td>Dinner</td>\n",
              "      <td>2</td>\n",
              "    </tr>\n",
              "    <tr>\n",
              "      <th>241</th>\n",
              "      <td>22.67</td>\n",
              "      <td>2.00</td>\n",
              "      <td>Male</td>\n",
              "      <td>Yes</td>\n",
              "      <td>Sat</td>\n",
              "      <td>Dinner</td>\n",
              "      <td>2</td>\n",
              "    </tr>\n",
              "    <tr>\n",
              "      <th>242</th>\n",
              "      <td>17.82</td>\n",
              "      <td>1.75</td>\n",
              "      <td>Male</td>\n",
              "      <td>No</td>\n",
              "      <td>Sat</td>\n",
              "      <td>Dinner</td>\n",
              "      <td>2</td>\n",
              "    </tr>\n",
              "    <tr>\n",
              "      <th>243</th>\n",
              "      <td>18.78</td>\n",
              "      <td>3.00</td>\n",
              "      <td>Female</td>\n",
              "      <td>No</td>\n",
              "      <td>Thur</td>\n",
              "      <td>Dinner</td>\n",
              "      <td>2</td>\n",
              "    </tr>\n",
              "  </tbody>\n",
              "</table>\n",
              "<p>244 rows × 7 columns</p>\n",
              "</div>\n",
              "    <div class=\"colab-df-buttons\">\n",
              "\n",
              "  <div class=\"colab-df-container\">\n",
              "    <button class=\"colab-df-convert\" onclick=\"convertToInteractive('df-6cba2b9e-3186-4f3d-a6fa-1ae6969759db')\"\n",
              "            title=\"Convert this dataframe to an interactive table.\"\n",
              "            style=\"display:none;\">\n",
              "\n",
              "  <svg xmlns=\"http://www.w3.org/2000/svg\" height=\"24px\" viewBox=\"0 -960 960 960\">\n",
              "    <path d=\"M120-120v-720h720v720H120Zm60-500h600v-160H180v160Zm220 220h160v-160H400v160Zm0 220h160v-160H400v160ZM180-400h160v-160H180v160Zm440 0h160v-160H620v160ZM180-180h160v-160H180v160Zm440 0h160v-160H620v160Z\"/>\n",
              "  </svg>\n",
              "    </button>\n",
              "\n",
              "  <style>\n",
              "    .colab-df-container {\n",
              "      display:flex;\n",
              "      gap: 12px;\n",
              "    }\n",
              "\n",
              "    .colab-df-convert {\n",
              "      background-color: #E8F0FE;\n",
              "      border: none;\n",
              "      border-radius: 50%;\n",
              "      cursor: pointer;\n",
              "      display: none;\n",
              "      fill: #1967D2;\n",
              "      height: 32px;\n",
              "      padding: 0 0 0 0;\n",
              "      width: 32px;\n",
              "    }\n",
              "\n",
              "    .colab-df-convert:hover {\n",
              "      background-color: #E2EBFA;\n",
              "      box-shadow: 0px 1px 2px rgba(60, 64, 67, 0.3), 0px 1px 3px 1px rgba(60, 64, 67, 0.15);\n",
              "      fill: #174EA6;\n",
              "    }\n",
              "\n",
              "    .colab-df-buttons div {\n",
              "      margin-bottom: 4px;\n",
              "    }\n",
              "\n",
              "    [theme=dark] .colab-df-convert {\n",
              "      background-color: #3B4455;\n",
              "      fill: #D2E3FC;\n",
              "    }\n",
              "\n",
              "    [theme=dark] .colab-df-convert:hover {\n",
              "      background-color: #434B5C;\n",
              "      box-shadow: 0px 1px 3px 1px rgba(0, 0, 0, 0.15);\n",
              "      filter: drop-shadow(0px 1px 2px rgba(0, 0, 0, 0.3));\n",
              "      fill: #FFFFFF;\n",
              "    }\n",
              "  </style>\n",
              "\n",
              "    <script>\n",
              "      const buttonEl =\n",
              "        document.querySelector('#df-6cba2b9e-3186-4f3d-a6fa-1ae6969759db button.colab-df-convert');\n",
              "      buttonEl.style.display =\n",
              "        google.colab.kernel.accessAllowed ? 'block' : 'none';\n",
              "\n",
              "      async function convertToInteractive(key) {\n",
              "        const element = document.querySelector('#df-6cba2b9e-3186-4f3d-a6fa-1ae6969759db');\n",
              "        const dataTable =\n",
              "          await google.colab.kernel.invokeFunction('convertToInteractive',\n",
              "                                                    [key], {});\n",
              "        if (!dataTable) return;\n",
              "\n",
              "        const docLinkHtml = 'Like what you see? Visit the ' +\n",
              "          '<a target=\"_blank\" href=https://colab.research.google.com/notebooks/data_table.ipynb>data table notebook</a>'\n",
              "          + ' to learn more about interactive tables.';\n",
              "        element.innerHTML = '';\n",
              "        dataTable['output_type'] = 'display_data';\n",
              "        await google.colab.output.renderOutput(dataTable, element);\n",
              "        const docLink = document.createElement('div');\n",
              "        docLink.innerHTML = docLinkHtml;\n",
              "        element.appendChild(docLink);\n",
              "      }\n",
              "    </script>\n",
              "  </div>\n",
              "\n",
              "\n",
              "<div id=\"df-dec1b29e-0b59-403d-a851-5c473335f701\">\n",
              "  <button class=\"colab-df-quickchart\" onclick=\"quickchart('df-dec1b29e-0b59-403d-a851-5c473335f701')\"\n",
              "            title=\"Suggest charts\"\n",
              "            style=\"display:none;\">\n",
              "\n",
              "<svg xmlns=\"http://www.w3.org/2000/svg\" height=\"24px\"viewBox=\"0 0 24 24\"\n",
              "     width=\"24px\">\n",
              "    <g>\n",
              "        <path d=\"M19 3H5c-1.1 0-2 .9-2 2v14c0 1.1.9 2 2 2h14c1.1 0 2-.9 2-2V5c0-1.1-.9-2-2-2zM9 17H7v-7h2v7zm4 0h-2V7h2v10zm4 0h-2v-4h2v4z\"/>\n",
              "    </g>\n",
              "</svg>\n",
              "  </button>\n",
              "\n",
              "<style>\n",
              "  .colab-df-quickchart {\n",
              "      --bg-color: #E8F0FE;\n",
              "      --fill-color: #1967D2;\n",
              "      --hover-bg-color: #E2EBFA;\n",
              "      --hover-fill-color: #174EA6;\n",
              "      --disabled-fill-color: #AAA;\n",
              "      --disabled-bg-color: #DDD;\n",
              "  }\n",
              "\n",
              "  [theme=dark] .colab-df-quickchart {\n",
              "      --bg-color: #3B4455;\n",
              "      --fill-color: #D2E3FC;\n",
              "      --hover-bg-color: #434B5C;\n",
              "      --hover-fill-color: #FFFFFF;\n",
              "      --disabled-bg-color: #3B4455;\n",
              "      --disabled-fill-color: #666;\n",
              "  }\n",
              "\n",
              "  .colab-df-quickchart {\n",
              "    background-color: var(--bg-color);\n",
              "    border: none;\n",
              "    border-radius: 50%;\n",
              "    cursor: pointer;\n",
              "    display: none;\n",
              "    fill: var(--fill-color);\n",
              "    height: 32px;\n",
              "    padding: 0;\n",
              "    width: 32px;\n",
              "  }\n",
              "\n",
              "  .colab-df-quickchart:hover {\n",
              "    background-color: var(--hover-bg-color);\n",
              "    box-shadow: 0 1px 2px rgba(60, 64, 67, 0.3), 0 1px 3px 1px rgba(60, 64, 67, 0.15);\n",
              "    fill: var(--button-hover-fill-color);\n",
              "  }\n",
              "\n",
              "  .colab-df-quickchart-complete:disabled,\n",
              "  .colab-df-quickchart-complete:disabled:hover {\n",
              "    background-color: var(--disabled-bg-color);\n",
              "    fill: var(--disabled-fill-color);\n",
              "    box-shadow: none;\n",
              "  }\n",
              "\n",
              "  .colab-df-spinner {\n",
              "    border: 2px solid var(--fill-color);\n",
              "    border-color: transparent;\n",
              "    border-bottom-color: var(--fill-color);\n",
              "    animation:\n",
              "      spin 1s steps(1) infinite;\n",
              "  }\n",
              "\n",
              "  @keyframes spin {\n",
              "    0% {\n",
              "      border-color: transparent;\n",
              "      border-bottom-color: var(--fill-color);\n",
              "      border-left-color: var(--fill-color);\n",
              "    }\n",
              "    20% {\n",
              "      border-color: transparent;\n",
              "      border-left-color: var(--fill-color);\n",
              "      border-top-color: var(--fill-color);\n",
              "    }\n",
              "    30% {\n",
              "      border-color: transparent;\n",
              "      border-left-color: var(--fill-color);\n",
              "      border-top-color: var(--fill-color);\n",
              "      border-right-color: var(--fill-color);\n",
              "    }\n",
              "    40% {\n",
              "      border-color: transparent;\n",
              "      border-right-color: var(--fill-color);\n",
              "      border-top-color: var(--fill-color);\n",
              "    }\n",
              "    60% {\n",
              "      border-color: transparent;\n",
              "      border-right-color: var(--fill-color);\n",
              "    }\n",
              "    80% {\n",
              "      border-color: transparent;\n",
              "      border-right-color: var(--fill-color);\n",
              "      border-bottom-color: var(--fill-color);\n",
              "    }\n",
              "    90% {\n",
              "      border-color: transparent;\n",
              "      border-bottom-color: var(--fill-color);\n",
              "    }\n",
              "  }\n",
              "</style>\n",
              "\n",
              "  <script>\n",
              "    async function quickchart(key) {\n",
              "      const quickchartButtonEl =\n",
              "        document.querySelector('#' + key + ' button');\n",
              "      quickchartButtonEl.disabled = true;  // To prevent multiple clicks.\n",
              "      quickchartButtonEl.classList.add('colab-df-spinner');\n",
              "      try {\n",
              "        const charts = await google.colab.kernel.invokeFunction(\n",
              "            'suggestCharts', [key], {});\n",
              "      } catch (error) {\n",
              "        console.error('Error during call to suggestCharts:', error);\n",
              "      }\n",
              "      quickchartButtonEl.classList.remove('colab-df-spinner');\n",
              "      quickchartButtonEl.classList.add('colab-df-quickchart-complete');\n",
              "    }\n",
              "    (() => {\n",
              "      let quickchartButtonEl =\n",
              "        document.querySelector('#df-dec1b29e-0b59-403d-a851-5c473335f701 button');\n",
              "      quickchartButtonEl.style.display =\n",
              "        google.colab.kernel.accessAllowed ? 'block' : 'none';\n",
              "    })();\n",
              "  </script>\n",
              "</div>\n",
              "\n",
              "  <div id=\"id_21497c42-02e3-4c2d-a163-5849037ebd46\">\n",
              "    <style>\n",
              "      .colab-df-generate {\n",
              "        background-color: #E8F0FE;\n",
              "        border: none;\n",
              "        border-radius: 50%;\n",
              "        cursor: pointer;\n",
              "        display: none;\n",
              "        fill: #1967D2;\n",
              "        height: 32px;\n",
              "        padding: 0 0 0 0;\n",
              "        width: 32px;\n",
              "      }\n",
              "\n",
              "      .colab-df-generate:hover {\n",
              "        background-color: #E2EBFA;\n",
              "        box-shadow: 0px 1px 2px rgba(60, 64, 67, 0.3), 0px 1px 3px 1px rgba(60, 64, 67, 0.15);\n",
              "        fill: #174EA6;\n",
              "      }\n",
              "\n",
              "      [theme=dark] .colab-df-generate {\n",
              "        background-color: #3B4455;\n",
              "        fill: #D2E3FC;\n",
              "      }\n",
              "\n",
              "      [theme=dark] .colab-df-generate:hover {\n",
              "        background-color: #434B5C;\n",
              "        box-shadow: 0px 1px 3px 1px rgba(0, 0, 0, 0.15);\n",
              "        filter: drop-shadow(0px 1px 2px rgba(0, 0, 0, 0.3));\n",
              "        fill: #FFFFFF;\n",
              "      }\n",
              "    </style>\n",
              "    <button class=\"colab-df-generate\" onclick=\"generateWithVariable('df')\"\n",
              "            title=\"Generate code using this dataframe.\"\n",
              "            style=\"display:none;\">\n",
              "\n",
              "  <svg xmlns=\"http://www.w3.org/2000/svg\" height=\"24px\"viewBox=\"0 0 24 24\"\n",
              "       width=\"24px\">\n",
              "    <path d=\"M7,19H8.4L18.45,9,17,7.55,7,17.6ZM5,21V16.75L18.45,3.32a2,2,0,0,1,2.83,0l1.4,1.43a1.91,1.91,0,0,1,.58,1.4,1.91,1.91,0,0,1-.58,1.4L9.25,21ZM18.45,9,17,7.55Zm-12,3A5.31,5.31,0,0,0,4.9,8.1,5.31,5.31,0,0,0,1,6.5,5.31,5.31,0,0,0,4.9,4.9,5.31,5.31,0,0,0,6.5,1,5.31,5.31,0,0,0,8.1,4.9,5.31,5.31,0,0,0,12,6.5,5.46,5.46,0,0,0,6.5,12Z\"/>\n",
              "  </svg>\n",
              "    </button>\n",
              "    <script>\n",
              "      (() => {\n",
              "      const buttonEl =\n",
              "        document.querySelector('#id_21497c42-02e3-4c2d-a163-5849037ebd46 button.colab-df-generate');\n",
              "      buttonEl.style.display =\n",
              "        google.colab.kernel.accessAllowed ? 'block' : 'none';\n",
              "\n",
              "      buttonEl.onclick = () => {\n",
              "        google.colab.notebook.generateWithVariable('df');\n",
              "      }\n",
              "      })();\n",
              "    </script>\n",
              "  </div>\n",
              "\n",
              "    </div>\n",
              "  </div>\n"
            ],
            "application/vnd.google.colaboratory.intrinsic+json": {
              "type": "dataframe",
              "variable_name": "df",
              "summary": "{\n  \"name\": \"df\",\n  \"rows\": 244,\n  \"fields\": [\n    {\n      \"column\": \"total_bill\",\n      \"properties\": {\n        \"dtype\": \"number\",\n        \"std\": 8.902411954856856,\n        \"min\": 3.07,\n        \"max\": 50.81,\n        \"num_unique_values\": 229,\n        \"samples\": [\n          22.12,\n          20.23,\n          14.78\n        ],\n        \"semantic_type\": \"\",\n        \"description\": \"\"\n      }\n    },\n    {\n      \"column\": \"tip\",\n      \"properties\": {\n        \"dtype\": \"number\",\n        \"std\": 1.3836381890011822,\n        \"min\": 1.0,\n        \"max\": 10.0,\n        \"num_unique_values\": 123,\n        \"samples\": [\n          3.35,\n          1.5,\n          6.73\n        ],\n        \"semantic_type\": \"\",\n        \"description\": \"\"\n      }\n    },\n    {\n      \"column\": \"sex\",\n      \"properties\": {\n        \"dtype\": \"category\",\n        \"num_unique_values\": 2,\n        \"samples\": [\n          \"Male\",\n          \"Female\"\n        ],\n        \"semantic_type\": \"\",\n        \"description\": \"\"\n      }\n    },\n    {\n      \"column\": \"smoker\",\n      \"properties\": {\n        \"dtype\": \"category\",\n        \"num_unique_values\": 2,\n        \"samples\": [\n          \"Yes\",\n          \"No\"\n        ],\n        \"semantic_type\": \"\",\n        \"description\": \"\"\n      }\n    },\n    {\n      \"column\": \"day\",\n      \"properties\": {\n        \"dtype\": \"category\",\n        \"num_unique_values\": 4,\n        \"samples\": [\n          \"Sat\",\n          \"Fri\"\n        ],\n        \"semantic_type\": \"\",\n        \"description\": \"\"\n      }\n    },\n    {\n      \"column\": \"time\",\n      \"properties\": {\n        \"dtype\": \"category\",\n        \"num_unique_values\": 2,\n        \"samples\": [\n          \"Lunch\",\n          \"Dinner\"\n        ],\n        \"semantic_type\": \"\",\n        \"description\": \"\"\n      }\n    },\n    {\n      \"column\": \"size\",\n      \"properties\": {\n        \"dtype\": \"number\",\n        \"std\": 0,\n        \"min\": 1,\n        \"max\": 6,\n        \"num_unique_values\": 6,\n        \"samples\": [\n          2,\n          3\n        ],\n        \"semantic_type\": \"\",\n        \"description\": \"\"\n      }\n    }\n  ]\n}"
            }
          },
          "metadata": {},
          "execution_count": 6
        }
      ]
    },
    {
      "cell_type": "code",
      "source": [
        "#Unsupervised\n",
        "\n",
        "#Contenuous - total_bill, tip\n",
        "#Category - sex,\tsmoker,\tday,\ttime,\tsize\n",
        "\n",
        "#corr"
      ],
      "metadata": {
        "id": "ax5hruFX1cos"
      },
      "execution_count": 7,
      "outputs": []
    },
    {
      "cell_type": "code",
      "source": [
        "df.corr()"
      ],
      "metadata": {
        "colab": {
          "base_uri": "https://localhost:8080/",
          "height": 198
        },
        "id": "SizOT1ln5bS6",
        "outputId": "b00ba1b4-1b29-408e-8c9e-ebf8139a80b5"
      },
      "execution_count": 8,
      "outputs": [
        {
          "output_type": "stream",
          "name": "stderr",
          "text": [
            "<ipython-input-8-2f6f6606aa2c>:1: FutureWarning: The default value of numeric_only in DataFrame.corr is deprecated. In a future version, it will default to False. Select only valid columns or specify the value of numeric_only to silence this warning.\n",
            "  df.corr()\n"
          ]
        },
        {
          "output_type": "execute_result",
          "data": {
            "text/plain": [
              "            total_bill       tip      size\n",
              "total_bill    1.000000  0.675734  0.598315\n",
              "tip           0.675734  1.000000  0.489299\n",
              "size          0.598315  0.489299  1.000000"
            ],
            "text/html": [
              "\n",
              "  <div id=\"df-438de72b-cb63-4cbe-887d-417350fe944b\" class=\"colab-df-container\">\n",
              "    <div>\n",
              "<style scoped>\n",
              "    .dataframe tbody tr th:only-of-type {\n",
              "        vertical-align: middle;\n",
              "    }\n",
              "\n",
              "    .dataframe tbody tr th {\n",
              "        vertical-align: top;\n",
              "    }\n",
              "\n",
              "    .dataframe thead th {\n",
              "        text-align: right;\n",
              "    }\n",
              "</style>\n",
              "<table border=\"1\" class=\"dataframe\">\n",
              "  <thead>\n",
              "    <tr style=\"text-align: right;\">\n",
              "      <th></th>\n",
              "      <th>total_bill</th>\n",
              "      <th>tip</th>\n",
              "      <th>size</th>\n",
              "    </tr>\n",
              "  </thead>\n",
              "  <tbody>\n",
              "    <tr>\n",
              "      <th>total_bill</th>\n",
              "      <td>1.000000</td>\n",
              "      <td>0.675734</td>\n",
              "      <td>0.598315</td>\n",
              "    </tr>\n",
              "    <tr>\n",
              "      <th>tip</th>\n",
              "      <td>0.675734</td>\n",
              "      <td>1.000000</td>\n",
              "      <td>0.489299</td>\n",
              "    </tr>\n",
              "    <tr>\n",
              "      <th>size</th>\n",
              "      <td>0.598315</td>\n",
              "      <td>0.489299</td>\n",
              "      <td>1.000000</td>\n",
              "    </tr>\n",
              "  </tbody>\n",
              "</table>\n",
              "</div>\n",
              "    <div class=\"colab-df-buttons\">\n",
              "\n",
              "  <div class=\"colab-df-container\">\n",
              "    <button class=\"colab-df-convert\" onclick=\"convertToInteractive('df-438de72b-cb63-4cbe-887d-417350fe944b')\"\n",
              "            title=\"Convert this dataframe to an interactive table.\"\n",
              "            style=\"display:none;\">\n",
              "\n",
              "  <svg xmlns=\"http://www.w3.org/2000/svg\" height=\"24px\" viewBox=\"0 -960 960 960\">\n",
              "    <path d=\"M120-120v-720h720v720H120Zm60-500h600v-160H180v160Zm220 220h160v-160H400v160Zm0 220h160v-160H400v160ZM180-400h160v-160H180v160Zm440 0h160v-160H620v160ZM180-180h160v-160H180v160Zm440 0h160v-160H620v160Z\"/>\n",
              "  </svg>\n",
              "    </button>\n",
              "\n",
              "  <style>\n",
              "    .colab-df-container {\n",
              "      display:flex;\n",
              "      gap: 12px;\n",
              "    }\n",
              "\n",
              "    .colab-df-convert {\n",
              "      background-color: #E8F0FE;\n",
              "      border: none;\n",
              "      border-radius: 50%;\n",
              "      cursor: pointer;\n",
              "      display: none;\n",
              "      fill: #1967D2;\n",
              "      height: 32px;\n",
              "      padding: 0 0 0 0;\n",
              "      width: 32px;\n",
              "    }\n",
              "\n",
              "    .colab-df-convert:hover {\n",
              "      background-color: #E2EBFA;\n",
              "      box-shadow: 0px 1px 2px rgba(60, 64, 67, 0.3), 0px 1px 3px 1px rgba(60, 64, 67, 0.15);\n",
              "      fill: #174EA6;\n",
              "    }\n",
              "\n",
              "    .colab-df-buttons div {\n",
              "      margin-bottom: 4px;\n",
              "    }\n",
              "\n",
              "    [theme=dark] .colab-df-convert {\n",
              "      background-color: #3B4455;\n",
              "      fill: #D2E3FC;\n",
              "    }\n",
              "\n",
              "    [theme=dark] .colab-df-convert:hover {\n",
              "      background-color: #434B5C;\n",
              "      box-shadow: 0px 1px 3px 1px rgba(0, 0, 0, 0.15);\n",
              "      filter: drop-shadow(0px 1px 2px rgba(0, 0, 0, 0.3));\n",
              "      fill: #FFFFFF;\n",
              "    }\n",
              "  </style>\n",
              "\n",
              "    <script>\n",
              "      const buttonEl =\n",
              "        document.querySelector('#df-438de72b-cb63-4cbe-887d-417350fe944b button.colab-df-convert');\n",
              "      buttonEl.style.display =\n",
              "        google.colab.kernel.accessAllowed ? 'block' : 'none';\n",
              "\n",
              "      async function convertToInteractive(key) {\n",
              "        const element = document.querySelector('#df-438de72b-cb63-4cbe-887d-417350fe944b');\n",
              "        const dataTable =\n",
              "          await google.colab.kernel.invokeFunction('convertToInteractive',\n",
              "                                                    [key], {});\n",
              "        if (!dataTable) return;\n",
              "\n",
              "        const docLinkHtml = 'Like what you see? Visit the ' +\n",
              "          '<a target=\"_blank\" href=https://colab.research.google.com/notebooks/data_table.ipynb>data table notebook</a>'\n",
              "          + ' to learn more about interactive tables.';\n",
              "        element.innerHTML = '';\n",
              "        dataTable['output_type'] = 'display_data';\n",
              "        await google.colab.output.renderOutput(dataTable, element);\n",
              "        const docLink = document.createElement('div');\n",
              "        docLink.innerHTML = docLinkHtml;\n",
              "        element.appendChild(docLink);\n",
              "      }\n",
              "    </script>\n",
              "  </div>\n",
              "\n",
              "\n",
              "<div id=\"df-e96bff26-2421-47f0-b784-8389b5c87faa\">\n",
              "  <button class=\"colab-df-quickchart\" onclick=\"quickchart('df-e96bff26-2421-47f0-b784-8389b5c87faa')\"\n",
              "            title=\"Suggest charts\"\n",
              "            style=\"display:none;\">\n",
              "\n",
              "<svg xmlns=\"http://www.w3.org/2000/svg\" height=\"24px\"viewBox=\"0 0 24 24\"\n",
              "     width=\"24px\">\n",
              "    <g>\n",
              "        <path d=\"M19 3H5c-1.1 0-2 .9-2 2v14c0 1.1.9 2 2 2h14c1.1 0 2-.9 2-2V5c0-1.1-.9-2-2-2zM9 17H7v-7h2v7zm4 0h-2V7h2v10zm4 0h-2v-4h2v4z\"/>\n",
              "    </g>\n",
              "</svg>\n",
              "  </button>\n",
              "\n",
              "<style>\n",
              "  .colab-df-quickchart {\n",
              "      --bg-color: #E8F0FE;\n",
              "      --fill-color: #1967D2;\n",
              "      --hover-bg-color: #E2EBFA;\n",
              "      --hover-fill-color: #174EA6;\n",
              "      --disabled-fill-color: #AAA;\n",
              "      --disabled-bg-color: #DDD;\n",
              "  }\n",
              "\n",
              "  [theme=dark] .colab-df-quickchart {\n",
              "      --bg-color: #3B4455;\n",
              "      --fill-color: #D2E3FC;\n",
              "      --hover-bg-color: #434B5C;\n",
              "      --hover-fill-color: #FFFFFF;\n",
              "      --disabled-bg-color: #3B4455;\n",
              "      --disabled-fill-color: #666;\n",
              "  }\n",
              "\n",
              "  .colab-df-quickchart {\n",
              "    background-color: var(--bg-color);\n",
              "    border: none;\n",
              "    border-radius: 50%;\n",
              "    cursor: pointer;\n",
              "    display: none;\n",
              "    fill: var(--fill-color);\n",
              "    height: 32px;\n",
              "    padding: 0;\n",
              "    width: 32px;\n",
              "  }\n",
              "\n",
              "  .colab-df-quickchart:hover {\n",
              "    background-color: var(--hover-bg-color);\n",
              "    box-shadow: 0 1px 2px rgba(60, 64, 67, 0.3), 0 1px 3px 1px rgba(60, 64, 67, 0.15);\n",
              "    fill: var(--button-hover-fill-color);\n",
              "  }\n",
              "\n",
              "  .colab-df-quickchart-complete:disabled,\n",
              "  .colab-df-quickchart-complete:disabled:hover {\n",
              "    background-color: var(--disabled-bg-color);\n",
              "    fill: var(--disabled-fill-color);\n",
              "    box-shadow: none;\n",
              "  }\n",
              "\n",
              "  .colab-df-spinner {\n",
              "    border: 2px solid var(--fill-color);\n",
              "    border-color: transparent;\n",
              "    border-bottom-color: var(--fill-color);\n",
              "    animation:\n",
              "      spin 1s steps(1) infinite;\n",
              "  }\n",
              "\n",
              "  @keyframes spin {\n",
              "    0% {\n",
              "      border-color: transparent;\n",
              "      border-bottom-color: var(--fill-color);\n",
              "      border-left-color: var(--fill-color);\n",
              "    }\n",
              "    20% {\n",
              "      border-color: transparent;\n",
              "      border-left-color: var(--fill-color);\n",
              "      border-top-color: var(--fill-color);\n",
              "    }\n",
              "    30% {\n",
              "      border-color: transparent;\n",
              "      border-left-color: var(--fill-color);\n",
              "      border-top-color: var(--fill-color);\n",
              "      border-right-color: var(--fill-color);\n",
              "    }\n",
              "    40% {\n",
              "      border-color: transparent;\n",
              "      border-right-color: var(--fill-color);\n",
              "      border-top-color: var(--fill-color);\n",
              "    }\n",
              "    60% {\n",
              "      border-color: transparent;\n",
              "      border-right-color: var(--fill-color);\n",
              "    }\n",
              "    80% {\n",
              "      border-color: transparent;\n",
              "      border-right-color: var(--fill-color);\n",
              "      border-bottom-color: var(--fill-color);\n",
              "    }\n",
              "    90% {\n",
              "      border-color: transparent;\n",
              "      border-bottom-color: var(--fill-color);\n",
              "    }\n",
              "  }\n",
              "</style>\n",
              "\n",
              "  <script>\n",
              "    async function quickchart(key) {\n",
              "      const quickchartButtonEl =\n",
              "        document.querySelector('#' + key + ' button');\n",
              "      quickchartButtonEl.disabled = true;  // To prevent multiple clicks.\n",
              "      quickchartButtonEl.classList.add('colab-df-spinner');\n",
              "      try {\n",
              "        const charts = await google.colab.kernel.invokeFunction(\n",
              "            'suggestCharts', [key], {});\n",
              "      } catch (error) {\n",
              "        console.error('Error during call to suggestCharts:', error);\n",
              "      }\n",
              "      quickchartButtonEl.classList.remove('colab-df-spinner');\n",
              "      quickchartButtonEl.classList.add('colab-df-quickchart-complete');\n",
              "    }\n",
              "    (() => {\n",
              "      let quickchartButtonEl =\n",
              "        document.querySelector('#df-e96bff26-2421-47f0-b784-8389b5c87faa button');\n",
              "      quickchartButtonEl.style.display =\n",
              "        google.colab.kernel.accessAllowed ? 'block' : 'none';\n",
              "    })();\n",
              "  </script>\n",
              "</div>\n",
              "\n",
              "    </div>\n",
              "  </div>\n"
            ],
            "application/vnd.google.colaboratory.intrinsic+json": {
              "type": "dataframe",
              "summary": "{\n  \"name\": \"df\",\n  \"rows\": 3,\n  \"fields\": [\n    {\n      \"column\": \"total_bill\",\n      \"properties\": {\n        \"dtype\": \"number\",\n        \"std\": 0.21310904884233575,\n        \"min\": 0.5983151309049014,\n        \"max\": 1.0,\n        \"num_unique_values\": 3,\n        \"samples\": [\n          1.0,\n          0.6757341092113648,\n          0.5983151309049014\n        ],\n        \"semantic_type\": \"\",\n        \"description\": \"\"\n      }\n    },\n    {\n      \"column\": \"tip\",\n      \"properties\": {\n        \"dtype\": \"number\",\n        \"std\": 0.25843188743740914,\n        \"min\": 0.48929877523035714,\n        \"max\": 1.0,\n        \"num_unique_values\": 3,\n        \"samples\": [\n          0.6757341092113648,\n          1.0,\n          0.48929877523035714\n        ],\n        \"semantic_type\": \"\",\n        \"description\": \"\"\n      }\n    },\n    {\n      \"column\": \"size\",\n      \"properties\": {\n        \"dtype\": \"number\",\n        \"std\": 0.2689643845213583,\n        \"min\": 0.48929877523035714,\n        \"max\": 1.0,\n        \"num_unique_values\": 3,\n        \"samples\": [\n          0.5983151309049014,\n          0.48929877523035714,\n          1.0\n        ],\n        \"semantic_type\": \"\",\n        \"description\": \"\"\n      }\n    }\n  ]\n}"
            }
          },
          "metadata": {},
          "execution_count": 8
        }
      ]
    },
    {
      "cell_type": "code",
      "source": [
        "#total_bill,\ttip \t   - H0 is rejected\n",
        "\n",
        "#total_bill, sex\t    - H0 is rejected\n",
        "#total_bill, smoker   - H0 is accepted\n",
        "#total_bill, day     - H0 is rejected\n",
        "#total_bill, time\t    - H0 is rejected\n",
        "#total_bill, size    - H0 is rejected\n",
        "\n",
        "#tip, sex,\t          - H0 is accepted\n",
        "#tip, smoker          - H0 is accepted\n",
        "#tip, day            - H0 is accepted\n",
        "#tip, time\t          - H0 is accepted\n",
        "#tip, size            - H0 is rejected\n",
        "\n",
        "#sex, smoker          - H0 is accepted\n",
        "#sex, day              - H0 is rejected\n",
        "#sex, time\t          - H0 is rejected\n",
        "#sex, size           - H0 is accepted\n",
        "\n",
        "#day, time\t        - H0 is rejected\n",
        "#day, size\t         - H0 is rejected\n",
        "\n",
        "#time, size\t         - H0 is rejected"
      ],
      "metadata": {
        "id": "ajio6c9c7-oj"
      },
      "execution_count": 9,
      "outputs": []
    },
    {
      "cell_type": "markdown",
      "source": [
        "![image.png](data:image/png;base64,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)"
      ],
      "metadata": {
        "id": "_zt3-cfcSM4A"
      }
    },
    {
      "cell_type": "code",
      "source": [
        "#total_bill,\ttip\n",
        "for i in range(20):\n",
        "  sample1 = df.total_bill.sample(frac=0.04)\n",
        "  sample2 = df.tip.sample(frac=0.04)\n",
        "\n",
        "  t_test, p_value = stats.ttest_ind(sample1, sample2)\n",
        "\n",
        "  if p_value > 0.5:\n",
        "    print(\"H0 is accepted\")\n",
        "  else:\n",
        "    print('H0 is rejected')"
      ],
      "metadata": {
        "colab": {
          "base_uri": "https://localhost:8080/"
        },
        "id": "dZQHKCSvPCeO",
        "outputId": "568ec7b6-936c-46a5-8981-c799bad5f998"
      },
      "execution_count": 10,
      "outputs": [
        {
          "output_type": "stream",
          "name": "stdout",
          "text": [
            "H0 is rejected\n",
            "H0 is rejected\n",
            "H0 is rejected\n",
            "H0 is rejected\n",
            "H0 is rejected\n",
            "H0 is rejected\n",
            "H0 is rejected\n",
            "H0 is rejected\n",
            "H0 is rejected\n",
            "H0 is rejected\n",
            "H0 is rejected\n",
            "H0 is rejected\n",
            "H0 is rejected\n",
            "H0 is rejected\n",
            "H0 is rejected\n",
            "H0 is rejected\n",
            "H0 is rejected\n",
            "H0 is rejected\n",
            "H0 is rejected\n",
            "H0 is rejected\n"
          ]
        }
      ]
    },
    {
      "cell_type": "code",
      "source": [
        "data = pd.crosstab(df[\"sex\"], df[\"smoker\"])\n",
        "data"
      ],
      "metadata": {
        "colab": {
          "base_uri": "https://localhost:8080/",
          "height": 143
        },
        "id": "CmP0eDOE_FQ7",
        "outputId": "ab4f5553-2620-4291-ab78-25b3f9d99da6"
      },
      "execution_count": 11,
      "outputs": [
        {
          "output_type": "execute_result",
          "data": {
            "text/plain": [
              "smoker  Yes  No\n",
              "sex            \n",
              "Male     60  97\n",
              "Female   33  54"
            ],
            "text/html": [
              "\n",
              "  <div id=\"df-1d5ee0bb-6937-4851-814d-7f5ca5beb954\" class=\"colab-df-container\">\n",
              "    <div>\n",
              "<style scoped>\n",
              "    .dataframe tbody tr th:only-of-type {\n",
              "        vertical-align: middle;\n",
              "    }\n",
              "\n",
              "    .dataframe tbody tr th {\n",
              "        vertical-align: top;\n",
              "    }\n",
              "\n",
              "    .dataframe thead th {\n",
              "        text-align: right;\n",
              "    }\n",
              "</style>\n",
              "<table border=\"1\" class=\"dataframe\">\n",
              "  <thead>\n",
              "    <tr style=\"text-align: right;\">\n",
              "      <th>smoker</th>\n",
              "      <th>Yes</th>\n",
              "      <th>No</th>\n",
              "    </tr>\n",
              "    <tr>\n",
              "      <th>sex</th>\n",
              "      <th></th>\n",
              "      <th></th>\n",
              "    </tr>\n",
              "  </thead>\n",
              "  <tbody>\n",
              "    <tr>\n",
              "      <th>Male</th>\n",
              "      <td>60</td>\n",
              "      <td>97</td>\n",
              "    </tr>\n",
              "    <tr>\n",
              "      <th>Female</th>\n",
              "      <td>33</td>\n",
              "      <td>54</td>\n",
              "    </tr>\n",
              "  </tbody>\n",
              "</table>\n",
              "</div>\n",
              "    <div class=\"colab-df-buttons\">\n",
              "\n",
              "  <div class=\"colab-df-container\">\n",
              "    <button class=\"colab-df-convert\" onclick=\"convertToInteractive('df-1d5ee0bb-6937-4851-814d-7f5ca5beb954')\"\n",
              "            title=\"Convert this dataframe to an interactive table.\"\n",
              "            style=\"display:none;\">\n",
              "\n",
              "  <svg xmlns=\"http://www.w3.org/2000/svg\" height=\"24px\" viewBox=\"0 -960 960 960\">\n",
              "    <path d=\"M120-120v-720h720v720H120Zm60-500h600v-160H180v160Zm220 220h160v-160H400v160Zm0 220h160v-160H400v160ZM180-400h160v-160H180v160Zm440 0h160v-160H620v160ZM180-180h160v-160H180v160Zm440 0h160v-160H620v160Z\"/>\n",
              "  </svg>\n",
              "    </button>\n",
              "\n",
              "  <style>\n",
              "    .colab-df-container {\n",
              "      display:flex;\n",
              "      gap: 12px;\n",
              "    }\n",
              "\n",
              "    .colab-df-convert {\n",
              "      background-color: #E8F0FE;\n",
              "      border: none;\n",
              "      border-radius: 50%;\n",
              "      cursor: pointer;\n",
              "      display: none;\n",
              "      fill: #1967D2;\n",
              "      height: 32px;\n",
              "      padding: 0 0 0 0;\n",
              "      width: 32px;\n",
              "    }\n",
              "\n",
              "    .colab-df-convert:hover {\n",
              "      background-color: #E2EBFA;\n",
              "      box-shadow: 0px 1px 2px rgba(60, 64, 67, 0.3), 0px 1px 3px 1px rgba(60, 64, 67, 0.15);\n",
              "      fill: #174EA6;\n",
              "    }\n",
              "\n",
              "    .colab-df-buttons div {\n",
              "      margin-bottom: 4px;\n",
              "    }\n",
              "\n",
              "    [theme=dark] .colab-df-convert {\n",
              "      background-color: #3B4455;\n",
              "      fill: #D2E3FC;\n",
              "    }\n",
              "\n",
              "    [theme=dark] .colab-df-convert:hover {\n",
              "      background-color: #434B5C;\n",
              "      box-shadow: 0px 1px 3px 1px rgba(0, 0, 0, 0.15);\n",
              "      filter: drop-shadow(0px 1px 2px rgba(0, 0, 0, 0.3));\n",
              "      fill: #FFFFFF;\n",
              "    }\n",
              "  </style>\n",
              "\n",
              "    <script>\n",
              "      const buttonEl =\n",
              "        document.querySelector('#df-1d5ee0bb-6937-4851-814d-7f5ca5beb954 button.colab-df-convert');\n",
              "      buttonEl.style.display =\n",
              "        google.colab.kernel.accessAllowed ? 'block' : 'none';\n",
              "\n",
              "      async function convertToInteractive(key) {\n",
              "        const element = document.querySelector('#df-1d5ee0bb-6937-4851-814d-7f5ca5beb954');\n",
              "        const dataTable =\n",
              "          await google.colab.kernel.invokeFunction('convertToInteractive',\n",
              "                                                    [key], {});\n",
              "        if (!dataTable) return;\n",
              "\n",
              "        const docLinkHtml = 'Like what you see? Visit the ' +\n",
              "          '<a target=\"_blank\" href=https://colab.research.google.com/notebooks/data_table.ipynb>data table notebook</a>'\n",
              "          + ' to learn more about interactive tables.';\n",
              "        element.innerHTML = '';\n",
              "        dataTable['output_type'] = 'display_data';\n",
              "        await google.colab.output.renderOutput(dataTable, element);\n",
              "        const docLink = document.createElement('div');\n",
              "        docLink.innerHTML = docLinkHtml;\n",
              "        element.appendChild(docLink);\n",
              "      }\n",
              "    </script>\n",
              "  </div>\n",
              "\n",
              "\n",
              "<div id=\"df-77d66bab-c3a1-49bc-883d-df542607e52a\">\n",
              "  <button class=\"colab-df-quickchart\" onclick=\"quickchart('df-77d66bab-c3a1-49bc-883d-df542607e52a')\"\n",
              "            title=\"Suggest charts\"\n",
              "            style=\"display:none;\">\n",
              "\n",
              "<svg xmlns=\"http://www.w3.org/2000/svg\" height=\"24px\"viewBox=\"0 0 24 24\"\n",
              "     width=\"24px\">\n",
              "    <g>\n",
              "        <path d=\"M19 3H5c-1.1 0-2 .9-2 2v14c0 1.1.9 2 2 2h14c1.1 0 2-.9 2-2V5c0-1.1-.9-2-2-2zM9 17H7v-7h2v7zm4 0h-2V7h2v10zm4 0h-2v-4h2v4z\"/>\n",
              "    </g>\n",
              "</svg>\n",
              "  </button>\n",
              "\n",
              "<style>\n",
              "  .colab-df-quickchart {\n",
              "      --bg-color: #E8F0FE;\n",
              "      --fill-color: #1967D2;\n",
              "      --hover-bg-color: #E2EBFA;\n",
              "      --hover-fill-color: #174EA6;\n",
              "      --disabled-fill-color: #AAA;\n",
              "      --disabled-bg-color: #DDD;\n",
              "  }\n",
              "\n",
              "  [theme=dark] .colab-df-quickchart {\n",
              "      --bg-color: #3B4455;\n",
              "      --fill-color: #D2E3FC;\n",
              "      --hover-bg-color: #434B5C;\n",
              "      --hover-fill-color: #FFFFFF;\n",
              "      --disabled-bg-color: #3B4455;\n",
              "      --disabled-fill-color: #666;\n",
              "  }\n",
              "\n",
              "  .colab-df-quickchart {\n",
              "    background-color: var(--bg-color);\n",
              "    border: none;\n",
              "    border-radius: 50%;\n",
              "    cursor: pointer;\n",
              "    display: none;\n",
              "    fill: var(--fill-color);\n",
              "    height: 32px;\n",
              "    padding: 0;\n",
              "    width: 32px;\n",
              "  }\n",
              "\n",
              "  .colab-df-quickchart:hover {\n",
              "    background-color: var(--hover-bg-color);\n",
              "    box-shadow: 0 1px 2px rgba(60, 64, 67, 0.3), 0 1px 3px 1px rgba(60, 64, 67, 0.15);\n",
              "    fill: var(--button-hover-fill-color);\n",
              "  }\n",
              "\n",
              "  .colab-df-quickchart-complete:disabled,\n",
              "  .colab-df-quickchart-complete:disabled:hover {\n",
              "    background-color: var(--disabled-bg-color);\n",
              "    fill: var(--disabled-fill-color);\n",
              "    box-shadow: none;\n",
              "  }\n",
              "\n",
              "  .colab-df-spinner {\n",
              "    border: 2px solid var(--fill-color);\n",
              "    border-color: transparent;\n",
              "    border-bottom-color: var(--fill-color);\n",
              "    animation:\n",
              "      spin 1s steps(1) infinite;\n",
              "  }\n",
              "\n",
              "  @keyframes spin {\n",
              "    0% {\n",
              "      border-color: transparent;\n",
              "      border-bottom-color: var(--fill-color);\n",
              "      border-left-color: var(--fill-color);\n",
              "    }\n",
              "    20% {\n",
              "      border-color: transparent;\n",
              "      border-left-color: var(--fill-color);\n",
              "      border-top-color: var(--fill-color);\n",
              "    }\n",
              "    30% {\n",
              "      border-color: transparent;\n",
              "      border-left-color: var(--fill-color);\n",
              "      border-top-color: var(--fill-color);\n",
              "      border-right-color: var(--fill-color);\n",
              "    }\n",
              "    40% {\n",
              "      border-color: transparent;\n",
              "      border-right-color: var(--fill-color);\n",
              "      border-top-color: var(--fill-color);\n",
              "    }\n",
              "    60% {\n",
              "      border-color: transparent;\n",
              "      border-right-color: var(--fill-color);\n",
              "    }\n",
              "    80% {\n",
              "      border-color: transparent;\n",
              "      border-right-color: var(--fill-color);\n",
              "      border-bottom-color: var(--fill-color);\n",
              "    }\n",
              "    90% {\n",
              "      border-color: transparent;\n",
              "      border-bottom-color: var(--fill-color);\n",
              "    }\n",
              "  }\n",
              "</style>\n",
              "\n",
              "  <script>\n",
              "    async function quickchart(key) {\n",
              "      const quickchartButtonEl =\n",
              "        document.querySelector('#' + key + ' button');\n",
              "      quickchartButtonEl.disabled = true;  // To prevent multiple clicks.\n",
              "      quickchartButtonEl.classList.add('colab-df-spinner');\n",
              "      try {\n",
              "        const charts = await google.colab.kernel.invokeFunction(\n",
              "            'suggestCharts', [key], {});\n",
              "      } catch (error) {\n",
              "        console.error('Error during call to suggestCharts:', error);\n",
              "      }\n",
              "      quickchartButtonEl.classList.remove('colab-df-spinner');\n",
              "      quickchartButtonEl.classList.add('colab-df-quickchart-complete');\n",
              "    }\n",
              "    (() => {\n",
              "      let quickchartButtonEl =\n",
              "        document.querySelector('#df-77d66bab-c3a1-49bc-883d-df542607e52a button');\n",
              "      quickchartButtonEl.style.display =\n",
              "        google.colab.kernel.accessAllowed ? 'block' : 'none';\n",
              "    })();\n",
              "  </script>\n",
              "</div>\n",
              "\n",
              "  <div id=\"id_ecfb27a5-36c2-4386-aa7d-ff4bf181ef87\">\n",
              "    <style>\n",
              "      .colab-df-generate {\n",
              "        background-color: #E8F0FE;\n",
              "        border: none;\n",
              "        border-radius: 50%;\n",
              "        cursor: pointer;\n",
              "        display: none;\n",
              "        fill: #1967D2;\n",
              "        height: 32px;\n",
              "        padding: 0 0 0 0;\n",
              "        width: 32px;\n",
              "      }\n",
              "\n",
              "      .colab-df-generate:hover {\n",
              "        background-color: #E2EBFA;\n",
              "        box-shadow: 0px 1px 2px rgba(60, 64, 67, 0.3), 0px 1px 3px 1px rgba(60, 64, 67, 0.15);\n",
              "        fill: #174EA6;\n",
              "      }\n",
              "\n",
              "      [theme=dark] .colab-df-generate {\n",
              "        background-color: #3B4455;\n",
              "        fill: #D2E3FC;\n",
              "      }\n",
              "\n",
              "      [theme=dark] .colab-df-generate:hover {\n",
              "        background-color: #434B5C;\n",
              "        box-shadow: 0px 1px 3px 1px rgba(0, 0, 0, 0.15);\n",
              "        filter: drop-shadow(0px 1px 2px rgba(0, 0, 0, 0.3));\n",
              "        fill: #FFFFFF;\n",
              "      }\n",
              "    </style>\n",
              "    <button class=\"colab-df-generate\" onclick=\"generateWithVariable('data')\"\n",
              "            title=\"Generate code using this dataframe.\"\n",
              "            style=\"display:none;\">\n",
              "\n",
              "  <svg xmlns=\"http://www.w3.org/2000/svg\" height=\"24px\"viewBox=\"0 0 24 24\"\n",
              "       width=\"24px\">\n",
              "    <path d=\"M7,19H8.4L18.45,9,17,7.55,7,17.6ZM5,21V16.75L18.45,3.32a2,2,0,0,1,2.83,0l1.4,1.43a1.91,1.91,0,0,1,.58,1.4,1.91,1.91,0,0,1-.58,1.4L9.25,21ZM18.45,9,17,7.55Zm-12,3A5.31,5.31,0,0,0,4.9,8.1,5.31,5.31,0,0,0,1,6.5,5.31,5.31,0,0,0,4.9,4.9,5.31,5.31,0,0,0,6.5,1,5.31,5.31,0,0,0,8.1,4.9,5.31,5.31,0,0,0,12,6.5,5.46,5.46,0,0,0,6.5,12Z\"/>\n",
              "  </svg>\n",
              "    </button>\n",
              "    <script>\n",
              "      (() => {\n",
              "      const buttonEl =\n",
              "        document.querySelector('#id_ecfb27a5-36c2-4386-aa7d-ff4bf181ef87 button.colab-df-generate');\n",
              "      buttonEl.style.display =\n",
              "        google.colab.kernel.accessAllowed ? 'block' : 'none';\n",
              "\n",
              "      buttonEl.onclick = () => {\n",
              "        google.colab.notebook.generateWithVariable('data');\n",
              "      }\n",
              "      })();\n",
              "    </script>\n",
              "  </div>\n",
              "\n",
              "    </div>\n",
              "  </div>\n"
            ],
            "application/vnd.google.colaboratory.intrinsic+json": {
              "type": "dataframe",
              "variable_name": "data",
              "summary": "{\n  \"name\": \"data\",\n  \"rows\": 2,\n  \"fields\": [\n    {\n      \"column\": \"sex\",\n      \"properties\": {\n        \"dtype\": \"category\",\n        \"num_unique_values\": 2,\n        \"samples\": [\n          \"Female\",\n          \"Male\"\n        ],\n        \"semantic_type\": \"\",\n        \"description\": \"\"\n      }\n    },\n    {\n      \"column\": \"Yes\",\n      \"properties\": {\n        \"dtype\": \"number\",\n        \"std\": 19,\n        \"min\": 33,\n        \"max\": 60,\n        \"num_unique_values\": 2,\n        \"samples\": [\n          33,\n          60\n        ],\n        \"semantic_type\": \"\",\n        \"description\": \"\"\n      }\n    },\n    {\n      \"column\": \"No\",\n      \"properties\": {\n        \"dtype\": \"number\",\n        \"std\": 30,\n        \"min\": 54,\n        \"max\": 97,\n        \"num_unique_values\": 2,\n        \"samples\": [\n          54,\n          97\n        ],\n        \"semantic_type\": \"\",\n        \"description\": \"\"\n      }\n    }\n  ]\n}"
            }
          },
          "metadata": {},
          "execution_count": 11
        }
      ]
    },
    {
      "cell_type": "code",
      "source": [
        "observed_values = data.values\n",
        "observed_values"
      ],
      "metadata": {
        "colab": {
          "base_uri": "https://localhost:8080/"
        },
        "id": "v4KXNunq_6Ve",
        "outputId": "ba7e7840-1c55-44d0-9931-830baa08b6ce"
      },
      "execution_count": 12,
      "outputs": [
        {
          "output_type": "execute_result",
          "data": {
            "text/plain": [
              "array([[60, 97],\n",
              "       [33, 54]])"
            ]
          },
          "metadata": {},
          "execution_count": 12
        }
      ]
    },
    {
      "cell_type": "code",
      "source": [
        "result = stats.chi2_contingency(observed_values)"
      ],
      "metadata": {
        "id": "H7RzWBDF-3cO"
      },
      "execution_count": 13,
      "outputs": []
    },
    {
      "cell_type": "code",
      "source": [
        "result"
      ],
      "metadata": {
        "colab": {
          "base_uri": "https://localhost:8080/"
        },
        "id": "b7Fzul-0ALP8",
        "outputId": "4590771c-c04a-4c5e-a4b3-655023ec6351"
      },
      "execution_count": 14,
      "outputs": [
        {
          "output_type": "execute_result",
          "data": {
            "text/plain": [
              "Chi2ContingencyResult(statistic=0.0, pvalue=1.0, dof=1, expected_freq=array([[59.84016393, 97.15983607],\n",
              "       [33.15983607, 53.84016393]]))"
            ]
          },
          "metadata": {},
          "execution_count": 14
        }
      ]
    },
    {
      "cell_type": "code",
      "source": [
        "#sex, smoker - H0 is accepted\n",
        "\n",
        "data = pd.crosstab(df[\"sex\"], df[\"smoker\"])\n",
        "observed_values = data.values\n",
        "chi2_stat, p_value, _, _= stats.chi2_contingency(observed_values)\n",
        "\n",
        "if p_value > 0.05:\n",
        "  print(\"H0 is accepted\")\n",
        "else:\n",
        "  print(\"H0 is rejected\")\n"
      ],
      "metadata": {
        "colab": {
          "base_uri": "https://localhost:8080/"
        },
        "id": "iCFow21dAMvb",
        "outputId": "5dfb5631-1632-4425-f51d-d71122a26f59"
      },
      "execution_count": 15,
      "outputs": [
        {
          "output_type": "stream",
          "name": "stdout",
          "text": [
            "H0 is accepted\n"
          ]
        }
      ]
    },
    {
      "cell_type": "code",
      "source": [
        "#sex, day\n",
        "\n",
        "data = pd.crosstab(df[\"sex\"], df[\"day\"])\n",
        "observed_values = data.values\n",
        "chi2_stat, p_value, _, _= stats.chi2_contingency(observed_values)\n",
        "\n",
        "if p_value > 0.05:\n",
        "  print(\"H0 is accepted\")\n",
        "else:\n",
        "  print(\"H0 is rejected\")"
      ],
      "metadata": {
        "colab": {
          "base_uri": "https://localhost:8080/"
        },
        "id": "nfaYJ6OdCUsV",
        "outputId": "80851483-7b8f-410b-85e9-5a38d3d44d23"
      },
      "execution_count": 16,
      "outputs": [
        {
          "output_type": "stream",
          "name": "stdout",
          "text": [
            "H0 is rejected\n"
          ]
        }
      ]
    },
    {
      "cell_type": "code",
      "source": [
        "#sex, time\n",
        "\n",
        "data = pd.crosstab(df[\"sex\"], df[\"time\"])\n",
        "observed_values = data.values\n",
        "chi2_stat, p_value, _, _= stats.chi2_contingency(observed_values)\n",
        "\n",
        "if p_value > 0.05:\n",
        "  print(\"H0 is accepted\")\n",
        "else:\n",
        "  print(\"H0 is rejected\")"
      ],
      "metadata": {
        "colab": {
          "base_uri": "https://localhost:8080/"
        },
        "id": "zWLv1toTAVpL",
        "outputId": "10f35208-ffc7-4112-ba87-3f5315372221"
      },
      "execution_count": 17,
      "outputs": [
        {
          "output_type": "stream",
          "name": "stdout",
          "text": [
            "H0 is rejected\n"
          ]
        }
      ]
    },
    {
      "cell_type": "code",
      "source": [
        "#sex, size\n",
        "\n",
        "data = pd.crosstab(df[\"sex\"], df[\"size\"])\n",
        "observed_values = data.values\n",
        "chi2_stat, p_value, _, _= stats.chi2_contingency(observed_values)\n",
        "\n",
        "if p_value > 0.05:\n",
        "  print(\"H0 is accepted\")\n",
        "else:\n",
        "  print(\"H0 is rejected\")"
      ],
      "metadata": {
        "colab": {
          "base_uri": "https://localhost:8080/"
        },
        "id": "MEv3xsqECdEd",
        "outputId": "a7bbf612-52e1-4113-961a-e6573cdb461e"
      },
      "execution_count": 18,
      "outputs": [
        {
          "output_type": "stream",
          "name": "stdout",
          "text": [
            "H0 is accepted\n"
          ]
        }
      ]
    },
    {
      "cell_type": "code",
      "source": [
        "#day, time\n",
        "\n",
        "data = pd.crosstab(df[\"day\"], df[\"time\"])\n",
        "observed_values = data.values\n",
        "chi2_stat, p_value, _, _= stats.chi2_contingency(observed_values)\n",
        "\n",
        "if p_value > 0.05:\n",
        "  print(\"H0 is accepted\")\n",
        "else:\n",
        "  print(\"H0 is rejected\")"
      ],
      "metadata": {
        "colab": {
          "base_uri": "https://localhost:8080/"
        },
        "id": "YPWXCHMSCc8V",
        "outputId": "905ff4f0-3cc0-4817-e5d2-522ac2e8a81a"
      },
      "execution_count": 19,
      "outputs": [
        {
          "output_type": "stream",
          "name": "stdout",
          "text": [
            "H0 is rejected\n"
          ]
        }
      ]
    },
    {
      "cell_type": "code",
      "source": [
        "#day, size\n",
        "\n",
        "data = pd.crosstab(df[\"day\"], df[\"size\"])\n",
        "observed_values = data.values\n",
        "chi2_stat, p_value, _, _= stats.chi2_contingency(observed_values)\n",
        "\n",
        "if p_value > 0.05:\n",
        "  print(\"H0 is accepted\")\n",
        "else:\n",
        "  print(\"H0 is rejected\")"
      ],
      "metadata": {
        "colab": {
          "base_uri": "https://localhost:8080/"
        },
        "id": "qFOTRGdjCct1",
        "outputId": "a131c37b-6595-46de-dae6-7eda83b6aa6d"
      },
      "execution_count": 20,
      "outputs": [
        {
          "output_type": "stream",
          "name": "stdout",
          "text": [
            "H0 is rejected\n"
          ]
        }
      ]
    },
    {
      "cell_type": "code",
      "source": [
        "#time, size\n",
        "\n",
        "data = pd.crosstab(df[\"time\"], df[\"size\"])\n",
        "observed_values = data.values\n",
        "chi2_stat, p_value, _, _= stats.chi2_contingency(observed_values)\n",
        "\n",
        "if p_value > 0.05:\n",
        "  print(\"H0 is accepted\")\n",
        "else:\n",
        "  print(\"H0 is rejected\")"
      ],
      "metadata": {
        "colab": {
          "base_uri": "https://localhost:8080/"
        },
        "id": "37cdXX33CcGO",
        "outputId": "57dc02ac-66d6-4f8b-8c12-eb867e69f6ca"
      },
      "execution_count": 21,
      "outputs": [
        {
          "output_type": "stream",
          "name": "stdout",
          "text": [
            "H0 is rejected\n"
          ]
        }
      ]
    },
    {
      "cell_type": "code",
      "source": [
        "#total_bill, sex\n",
        "group = df['sex'].unique()"
      ],
      "metadata": {
        "id": "gCAVIhLhETTH"
      },
      "execution_count": 22,
      "outputs": []
    },
    {
      "cell_type": "code",
      "source": [
        "data = {}\n",
        "for i in group:\n",
        "  data[i]=df[\"total_bill\"][df[\"sex\"]==i]"
      ],
      "metadata": {
        "id": "v3JrlIINEVmm"
      },
      "execution_count": 23,
      "outputs": []
    },
    {
      "cell_type": "code",
      "source": [
        "data"
      ],
      "metadata": {
        "colab": {
          "base_uri": "https://localhost:8080/"
        },
        "id": "fvjg8T8iF3R9",
        "outputId": "d0b7a0cf-9f04-4292-e048-bf22cd41dba8"
      },
      "execution_count": 24,
      "outputs": [
        {
          "output_type": "execute_result",
          "data": {
            "text/plain": [
              "{'Female': 0      16.99\n",
              " 4      24.59\n",
              " 11     35.26\n",
              " 14     14.83\n",
              " 16     10.33\n",
              "        ...  \n",
              " 226    10.09\n",
              " 229    22.12\n",
              " 238    35.83\n",
              " 240    27.18\n",
              " 243    18.78\n",
              " Name: total_bill, Length: 87, dtype: float64,\n",
              " 'Male': 1      10.34\n",
              " 2      21.01\n",
              " 3      23.68\n",
              " 5      25.29\n",
              " 6       8.77\n",
              "        ...  \n",
              " 236    12.60\n",
              " 237    32.83\n",
              " 239    29.03\n",
              " 241    22.67\n",
              " 242    17.82\n",
              " Name: total_bill, Length: 157, dtype: float64}"
            ]
          },
          "metadata": {},
          "execution_count": 24
        }
      ]
    },
    {
      "cell_type": "code",
      "source": [
        "f_value, p_value = stats.f_oneway( data['Male'], data['Female'] )\n",
        "print(f_value, p_value)\n",
        "if p_value<0.05:\n",
        "  print(\"H0 - Null hypothesis is rejected which means no relationship exists\")\n",
        "else:\n",
        "  print(\"Ha - Null hypothesis is accepted which means relationship exists\")"
      ],
      "metadata": {
        "colab": {
          "base_uri": "https://localhost:8080/"
        },
        "id": "QbDPSlSRF3-u",
        "outputId": "1a583259-9588-45b2-d7ed-bd13b0c28191"
      },
      "execution_count": 25,
      "outputs": [
        {
          "output_type": "stream",
          "name": "stdout",
          "text": [
            "5.188345638458361 0.023611666846859697\n",
            "H0 - Null hypothesis is rejected which means no relationship exists\n"
          ]
        }
      ]
    },
    {
      "cell_type": "code",
      "source": [
        "group = df['smoker'].unique()\n",
        "group"
      ],
      "metadata": {
        "colab": {
          "base_uri": "https://localhost:8080/"
        },
        "id": "5BPZjsStHXll",
        "outputId": "fb68a5c5-a858-4e42-a3b3-3e90b6792ffc"
      },
      "execution_count": 26,
      "outputs": [
        {
          "output_type": "execute_result",
          "data": {
            "text/plain": [
              "['No', 'Yes']\n",
              "Categories (2, object): ['Yes', 'No']"
            ]
          },
          "metadata": {},
          "execution_count": 26
        }
      ]
    },
    {
      "cell_type": "code",
      "source": [
        "#total_bill, smoker\n",
        "group = df['smoker'].unique()\n",
        "data = {}\n",
        "for i in group:\n",
        "  data[i]=df[\"total_bill\"][df[\"smoker\"]==i]\n",
        "\n",
        "f_value, p_value = stats.f_oneway( data['No'], data['Yes'] )\n",
        "print(f_value, p_value)\n",
        "if p_value<0.05:\n",
        "  print(\"H0 - Null hypothesis is rejected which means no relationship exists\")\n",
        "else:\n",
        "  print(\"Ha - Null hypothesis is accepted which means relationship exists\")"
      ],
      "metadata": {
        "colab": {
          "base_uri": "https://localhost:8080/"
        },
        "id": "N33_j77DGzYR",
        "outputId": "c1254653-4ebd-4b41-ad6b-1a14d31dd073"
      },
      "execution_count": 27,
      "outputs": [
        {
          "output_type": "stream",
          "name": "stdout",
          "text": [
            "1.791411952596261 0.18201032884302323\n",
            "Ha - Null hypothesis is accepted which means relationship exists\n"
          ]
        }
      ]
    },
    {
      "cell_type": "code",
      "source": [
        "group = df['day'].unique()\n",
        "group"
      ],
      "metadata": {
        "colab": {
          "base_uri": "https://localhost:8080/"
        },
        "id": "5HbUY8zuHg-R",
        "outputId": "da3d629c-d265-4a0b-804d-85efd5497340"
      },
      "execution_count": 28,
      "outputs": [
        {
          "output_type": "execute_result",
          "data": {
            "text/plain": [
              "['Sun', 'Sat', 'Thur', 'Fri']\n",
              "Categories (4, object): ['Thur', 'Fri', 'Sat', 'Sun']"
            ]
          },
          "metadata": {},
          "execution_count": 28
        }
      ]
    },
    {
      "cell_type": "code",
      "source": [
        "#total_bill, day\n",
        "group = df['day'].unique()\n",
        "data = {}\n",
        "for i in group:\n",
        "  data[i]=df[\"total_bill\"][df[\"day\"]==i]\n",
        "\n",
        "f_value, p_value = stats.f_oneway(data['Thur'], data['Fri'], data['Sat'], data['Sun'] )\n",
        "print(f_value, p_value)\n",
        "if p_value<0.05:\n",
        "  print(\"H0 - Null hypothesis is rejected which means no relationship exists\")\n",
        "else:\n",
        "  print(\"Ha - Null hypothesis is accepted which means relationship exists\")"
      ],
      "metadata": {
        "colab": {
          "base_uri": "https://localhost:8080/"
        },
        "id": "UBp1itafG2ly",
        "outputId": "5a9e5018-3025-48b4-bdb9-183ce9ff0939"
      },
      "execution_count": 29,
      "outputs": [
        {
          "output_type": "stream",
          "name": "stdout",
          "text": [
            "2.7674794432863363 0.04245383328952047\n",
            "H0 - Null hypothesis is rejected which means no relationship exists\n"
          ]
        }
      ]
    },
    {
      "cell_type": "code",
      "source": [
        "#total_bill, time\n",
        "group = df['time'].unique()\n",
        "group"
      ],
      "metadata": {
        "colab": {
          "base_uri": "https://localhost:8080/"
        },
        "id": "Ofedlzp_G2fJ",
        "outputId": "06e1cd1a-ea6c-419c-d212-a7669d57f9ed"
      },
      "execution_count": 30,
      "outputs": [
        {
          "output_type": "execute_result",
          "data": {
            "text/plain": [
              "['Dinner', 'Lunch']\n",
              "Categories (2, object): ['Lunch', 'Dinner']"
            ]
          },
          "metadata": {},
          "execution_count": 30
        }
      ]
    },
    {
      "cell_type": "code",
      "source": [
        "group = df['time'].unique()\n",
        "data = {}\n",
        "for i in group:\n",
        "  data[i]=df[\"total_bill\"][df[\"time\"]==i]\n",
        "\n",
        "f_value, p_value = stats.f_oneway(data['Lunch'], data['Dinner'] )\n",
        "print(f_value, p_value)\n",
        "if p_value<0.05:\n",
        "  print(\"H0 - Null hypothesis is rejected which means no relationship exists\")\n",
        "else:\n",
        "  print(\"Ha - Null hypothesis is accepted which means relationship exists\")"
      ],
      "metadata": {
        "colab": {
          "base_uri": "https://localhost:8080/"
        },
        "id": "zP_PffrVIU4g",
        "outputId": "46322abd-e244-4926-d4b2-f4519b4ec412"
      },
      "execution_count": 31,
      "outputs": [
        {
          "output_type": "stream",
          "name": "stdout",
          "text": [
            "8.396303207955595 0.00410462140759571\n",
            "H0 - Null hypothesis is rejected which means no relationship exists\n"
          ]
        }
      ]
    },
    {
      "cell_type": "code",
      "source": [
        "#total_bill, size\n",
        "group = df['size'].unique()\n",
        "group"
      ],
      "metadata": {
        "colab": {
          "base_uri": "https://localhost:8080/"
        },
        "id": "F_vVlA3qG2ZF",
        "outputId": "7f85d483-9e80-4f6b-b654-c43f2c8b72d2"
      },
      "execution_count": 32,
      "outputs": [
        {
          "output_type": "execute_result",
          "data": {
            "text/plain": [
              "array([2, 3, 4, 1, 6, 5])"
            ]
          },
          "metadata": {},
          "execution_count": 32
        }
      ]
    },
    {
      "cell_type": "code",
      "source": [
        "group = df['size'].unique()\n",
        "data = {}\n",
        "for i in group:\n",
        "  data[i]=df[\"total_bill\"][df[\"size\"]==i]\n",
        "\n",
        "f_value, p_value = stats.f_oneway(data[1], data[2], data[3], data[4], data[5], data[6] )\n",
        "print(f_value, p_value)\n",
        "if p_value<0.05:\n",
        "  print(\"H0 - Null hypothesis is rejected which means no relationship exists\")\n",
        "else:\n",
        "  print(\"Ha - Null hypothesis is accepted which means relationship exists\")"
      ],
      "metadata": {
        "colab": {
          "base_uri": "https://localhost:8080/"
        },
        "id": "yd6icUclI6L_",
        "outputId": "0b41f5b2-82e4-4aa2-cf26-27105192a8be"
      },
      "execution_count": 33,
      "outputs": [
        {
          "output_type": "stream",
          "name": "stdout",
          "text": [
            "28.09461523749822 2.434919254210166e-22\n",
            "H0 - Null hypothesis is rejected which means no relationship exists\n"
          ]
        }
      ]
    },
    {
      "cell_type": "code",
      "source": [
        "#tip, sex,\n",
        "group = df['sex'].unique()\n",
        "group"
      ],
      "metadata": {
        "colab": {
          "base_uri": "https://localhost:8080/"
        },
        "id": "jFWOnvg9G2Ss",
        "outputId": "1927c665-219d-4c11-be1d-fc258df1fa83"
      },
      "execution_count": 34,
      "outputs": [
        {
          "output_type": "execute_result",
          "data": {
            "text/plain": [
              "['Female', 'Male']\n",
              "Categories (2, object): ['Male', 'Female']"
            ]
          },
          "metadata": {},
          "execution_count": 34
        }
      ]
    },
    {
      "cell_type": "code",
      "source": [
        "group = df['sex'].unique()\n",
        "data = {}\n",
        "for i in group:\n",
        "  data[i]=df[\"tip\"][df[\"sex\"]==i]\n",
        "\n",
        "f_value, p_value = stats.f_oneway(data['Male'], data['Female'] )\n",
        "print(f_value, p_value)\n",
        "if p_value<0.05:\n",
        "  print(\"H0 - Null hypothesis is rejected which means no relationship exists\")\n",
        "else:\n",
        "  print(\"Ha - Null hypothesis is accepted which means relationship exists\")"
      ],
      "metadata": {
        "colab": {
          "base_uri": "https://localhost:8080/"
        },
        "id": "0mj4kyVFI6sA",
        "outputId": "7b88edea-96a6-4d56-cbbb-57a92820484b"
      },
      "execution_count": 35,
      "outputs": [
        {
          "output_type": "stream",
          "name": "stdout",
          "text": [
            "1.9261545619320048 0.166456235034572\n",
            "Ha - Null hypothesis is accepted which means relationship exists\n"
          ]
        }
      ]
    },
    {
      "cell_type": "code",
      "source": [
        "#tip, smoker\n",
        "group = df['smoker'].unique()\n",
        "group"
      ],
      "metadata": {
        "colab": {
          "base_uri": "https://localhost:8080/"
        },
        "id": "f5YOkt-dG2Lv",
        "outputId": "f33a1403-5c47-4e4c-b112-030373f3366b"
      },
      "execution_count": 36,
      "outputs": [
        {
          "output_type": "execute_result",
          "data": {
            "text/plain": [
              "['No', 'Yes']\n",
              "Categories (2, object): ['Yes', 'No']"
            ]
          },
          "metadata": {},
          "execution_count": 36
        }
      ]
    },
    {
      "cell_type": "code",
      "source": [
        "group = df['smoker'].unique()\n",
        "data = {}\n",
        "for i in group:\n",
        "  data[i]=df[\"tip\"][df[\"smoker\"]==i]\n",
        "\n",
        "f_value, p_value = stats.f_oneway(data['No'], data['Yes'] )\n",
        "print(f_value, p_value)\n",
        "if p_value<0.05:\n",
        "  print(\"H0 - Null hypothesis is rejected which means no relationship exists\")\n",
        "else:\n",
        "  print(\"Ha - Null hypothesis is accepted which means relationship exists\")"
      ],
      "metadata": {
        "colab": {
          "base_uri": "https://localhost:8080/"
        },
        "id": "kfJpiNxCI7FV",
        "outputId": "ca79c4c6-42d9-41f3-cfdb-e1bb8709f9d0"
      },
      "execution_count": 37,
      "outputs": [
        {
          "output_type": "stream",
          "name": "stdout",
          "text": [
            "0.008506013551529044 0.926593152224447\n",
            "Ha - Null hypothesis is accepted which means relationship exists\n"
          ]
        }
      ]
    },
    {
      "cell_type": "code",
      "source": [
        "#tip, day\n",
        "group = df['day'].unique()\n",
        "group"
      ],
      "metadata": {
        "colab": {
          "base_uri": "https://localhost:8080/"
        },
        "id": "gBZY1gC0G2Dv",
        "outputId": "58048485-f47b-4ec6-d669-0d1b13c23571"
      },
      "execution_count": 38,
      "outputs": [
        {
          "output_type": "execute_result",
          "data": {
            "text/plain": [
              "['Sun', 'Sat', 'Thur', 'Fri']\n",
              "Categories (4, object): ['Thur', 'Fri', 'Sat', 'Sun']"
            ]
          },
          "metadata": {},
          "execution_count": 38
        }
      ]
    },
    {
      "cell_type": "code",
      "source": [
        "group = df['day'].unique()\n",
        "data = {}\n",
        "for i in group:\n",
        "  data[i]=df[\"tip\"][df[\"day\"]==i]\n",
        "\n",
        "f_value, p_value = stats.f_oneway(data['Thur'], data['Fri'], data['Sat'], data['Sun'] )\n",
        "print(f_value, p_value)\n",
        "if p_value<0.05:\n",
        "  print(\"H0 - Null hypothesis is rejected which means no relationship exists\")\n",
        "else:\n",
        "  print(\"Ha - Null hypothesis is accepted which means relationship exists\")"
      ],
      "metadata": {
        "colab": {
          "base_uri": "https://localhost:8080/"
        },
        "id": "_UrUgOQUI72d",
        "outputId": "020ea4ed-5750-4700-a353-fa3a31d5c965"
      },
      "execution_count": 39,
      "outputs": [
        {
          "output_type": "stream",
          "name": "stdout",
          "text": [
            "1.6723551980998699 0.1735885553040592\n",
            "Ha - Null hypothesis is accepted which means relationship exists\n"
          ]
        }
      ]
    },
    {
      "cell_type": "code",
      "source": [
        "#tip, time\n",
        "group = df['time'].unique()\n",
        "group"
      ],
      "metadata": {
        "colab": {
          "base_uri": "https://localhost:8080/"
        },
        "id": "Djc4b7LzG166",
        "outputId": "e2733af3-dad2-4fda-e3ad-ca7173b721f1"
      },
      "execution_count": 40,
      "outputs": [
        {
          "output_type": "execute_result",
          "data": {
            "text/plain": [
              "['Dinner', 'Lunch']\n",
              "Categories (2, object): ['Lunch', 'Dinner']"
            ]
          },
          "metadata": {},
          "execution_count": 40
        }
      ]
    },
    {
      "cell_type": "code",
      "source": [
        "group = df['time'].unique()\n",
        "data = {}\n",
        "for i in group:\n",
        "  data[i]=df[\"tip\"][df[\"time\"]==i]\n",
        "\n",
        "f_value, p_value = stats.f_oneway(data['Lunch'], data['Dinner'] )\n",
        "print(f_value, p_value)\n",
        "if p_value<0.05:\n",
        "  print(\"H0 - Null hypothesis is rejected which means no relationship exists\")\n",
        "else:\n",
        "  print(\"Ha - Null hypothesis is accepted which means relationship exists\")"
      ],
      "metadata": {
        "colab": {
          "base_uri": "https://localhost:8080/"
        },
        "id": "xoRrKPXnI8VM",
        "outputId": "6b9864db-48eb-41a0-c26c-ceae6c9946be"
      },
      "execution_count": 41,
      "outputs": [
        {
          "output_type": "stream",
          "name": "stdout",
          "text": [
            "3.633815483631457 0.05780153475171573\n",
            "Ha - Null hypothesis is accepted which means relationship exists\n"
          ]
        }
      ]
    },
    {
      "cell_type": "code",
      "source": [
        "#tip, size\n",
        "group = df['size'].unique()\n",
        "group"
      ],
      "metadata": {
        "colab": {
          "base_uri": "https://localhost:8080/"
        },
        "id": "Bc9XrM9qG1uM",
        "outputId": "b5157981-ba7a-44ac-a225-aa858ed91dd9"
      },
      "execution_count": 42,
      "outputs": [
        {
          "output_type": "execute_result",
          "data": {
            "text/plain": [
              "array([2, 3, 4, 1, 6, 5])"
            ]
          },
          "metadata": {},
          "execution_count": 42
        }
      ]
    },
    {
      "cell_type": "code",
      "source": [
        "group = df['size'].unique()\n",
        "data = {}\n",
        "for i in group:\n",
        "  data[i]=df[\"tip\"][df[\"size\"]==i]\n",
        "\n",
        "f_value, p_value = stats.f_oneway(data[1], data[2], data[3], data[4], data[5], data[6] )\n",
        "print(f_value, p_value)\n",
        "if p_value<0.05:\n",
        "  print(\"H0 - Null hypothesis is rejected which means no relationship exists\")\n",
        "else:\n",
        "  print(\"Ha - Null hypothesis is accepted which means relationship exists\")"
      ],
      "metadata": {
        "colab": {
          "base_uri": "https://localhost:8080/"
        },
        "id": "Z7mlqoLYI8nt",
        "outputId": "2b9a9225-b106-4af3-f5ed-ecbffdb0333a"
      },
      "execution_count": 43,
      "outputs": [
        {
          "output_type": "stream",
          "name": "stdout",
          "text": [
            "15.746330672727057 2.1694633916208174e-13\n",
            "H0 - Null hypothesis is rejected which means no relationship exists\n"
          ]
        }
      ]
    },
    {
      "cell_type": "code",
      "source": [
        "#tip, day\n",
        "fig = px.bar(df, x = 'day',\n",
        "                 y = 'tip',\n",
        "                 title = 'Day vs Tip'\n",
        "                )\n",
        "fig.show()"
      ],
      "metadata": {
        "colab": {
          "base_uri": "https://localhost:8080/",
          "height": 542
        },
        "id": "rZRggYdtb2gz",
        "outputId": "1d7fc07a-b885-46c7-9516-9a881420f877"
      },
      "execution_count": 44,
      "outputs": [
        {
          "output_type": "display_data",
          "data": {
            "text/html": [
              "<html>\n",
              "<head><meta charset=\"utf-8\" /></head>\n",
              "<body>\n",
              "    <div>            <script src=\"https://cdnjs.cloudflare.com/ajax/libs/mathjax/2.7.5/MathJax.js?config=TeX-AMS-MML_SVG\"></script><script type=\"text/javascript\">if (window.MathJax && window.MathJax.Hub && window.MathJax.Hub.Config) {window.MathJax.Hub.Config({SVG: {font: \"STIX-Web\"}});}</script>                <script type=\"text/javascript\">window.PlotlyConfig = {MathJaxConfig: 'local'};</script>\n",
              "        <script charset=\"utf-8\" src=\"https://cdn.plot.ly/plotly-2.24.1.min.js\"></script>                <div id=\"938d92da-27a7-48fa-8319-3f3f416209a6\" class=\"plotly-graph-div\" style=\"height:525px; width:100%;\"></div>            <script type=\"text/javascript\">                                    window.PLOTLYENV=window.PLOTLYENV || {};                                    if (document.getElementById(\"938d92da-27a7-48fa-8319-3f3f416209a6\")) {                    Plotly.newPlot(                        \"938d92da-27a7-48fa-8319-3f3f416209a6\",                        [{\"alignmentgroup\":\"True\",\"hovertemplate\":\"day=%{x}\\u003cbr\\u003etip=%{y}\\u003cextra\\u003e\\u003c\\u002fextra\\u003e\",\"legendgroup\":\"\",\"marker\":{\"color\":\"#636efa\",\"pattern\":{\"shape\":\"\"}},\"name\":\"\",\"offsetgroup\":\"\",\"orientation\":\"v\",\"showlegend\":false,\"textposition\":\"auto\",\"x\":[\"Sun\",\"Sun\",\"Sun\",\"Sun\",\"Sun\",\"Sun\",\"Sun\",\"Sun\",\"Sun\",\"Sun\",\"Sun\",\"Sun\",\"Sun\",\"Sun\",\"Sun\",\"Sun\",\"Sun\",\"Sun\",\"Sun\",\"Sat\",\"Sat\",\"Sat\",\"Sat\",\"Sat\",\"Sat\",\"Sat\",\"Sat\",\"Sat\",\"Sat\",\"Sat\",\"Sat\",\"Sat\",\"Sat\",\"Sat\",\"Sat\",\"Sat\",\"Sat\",\"Sat\",\"Sat\",\"Sat\",\"Sat\",\"Sun\",\"Sun\",\"Sun\",\"Sun\",\"Sun\",\"Sun\",\"Sun\",\"Sun\",\"Sun\",\"Sun\",\"Sun\",\"Sun\",\"Sun\",\"Sun\",\"Sun\",\"Sat\",\"Sat\",\"Sat\",\"Sat\",\"Sat\",\"Sat\",\"Sat\",\"Sat\",\"Sat\",\"Sat\",\"Sat\",\"Sat\",\"Sat\",\"Sat\",\"Sat\",\"Sat\",\"Sat\",\"Sat\",\"Sat\",\"Sat\",\"Sat\",\"Thur\",\"Thur\",\"Thur\",\"Thur\",\"Thur\",\"Thur\",\"Thur\",\"Thur\",\"Thur\",\"Thur\",\"Thur\",\"Thur\",\"Thur\",\"Fri\",\"Fri\",\"Fri\",\"Fri\",\"Fri\",\"Fri\",\"Fri\",\"Fri\",\"Fri\",\"Fri\",\"Fri\",\"Fri\",\"Sat\",\"Sat\",\"Sat\",\"Sat\",\"Sat\",\"Sat\",\"Sat\",\"Sat\",\"Sat\",\"Sat\",\"Sun\",\"Sun\",\"Sun\",\"Sun\",\"Sun\",\"Thur\",\"Thur\",\"Thur\",\"Thur\",\"Thur\",\"Thur\",\"Thur\",\"Thur\",\"Thur\",\"Thur\",\"Thur\",\"Thur\",\"Thur\",\"Thur\",\"Thur\",\"Thur\",\"Thur\",\"Thur\",\"Thur\",\"Thur\",\"Thur\",\"Thur\",\"Thur\",\"Thur\",\"Thur\",\"Thur\",\"Thur\",\"Thur\",\"Thur\",\"Thur\",\"Thur\",\"Thur\",\"Thur\",\"Sun\",\"Sun\",\"Sun\",\"Sun\",\"Sun\",\"Sun\",\"Sun\",\"Sun\",\"Sun\",\"Sun\",\"Sun\",\"Sun\",\"Sun\",\"Sun\",\"Sun\",\"Sun\",\"Sun\",\"Sun\",\"Sat\",\"Sat\",\"Sat\",\"Sat\",\"Sun\",\"Sun\",\"Sun\",\"Sun\",\"Sun\",\"Sun\",\"Sun\",\"Sun\",\"Sun\",\"Sun\",\"Sun\",\"Sun\",\"Sun\",\"Sun\",\"Sun\",\"Sun\",\"Sun\",\"Sun\",\"Sun\",\"Thur\",\"Thur\",\"Thur\",\"Thur\",\"Thur\",\"Thur\",\"Thur\",\"Thur\",\"Thur\",\"Thur\",\"Thur\",\"Thur\",\"Thur\",\"Thur\",\"Thur\",\"Sat\",\"Sat\",\"Sat\",\"Sat\",\"Sat\",\"Sat\",\"Sat\",\"Sat\",\"Sat\",\"Sat\",\"Sat\",\"Sat\",\"Sat\",\"Sat\",\"Fri\",\"Fri\",\"Fri\",\"Fri\",\"Fri\",\"Fri\",\"Fri\",\"Sat\",\"Sat\",\"Sat\",\"Sat\",\"Sat\",\"Sat\",\"Sat\",\"Sat\",\"Sat\",\"Sat\",\"Sat\",\"Sat\",\"Sat\",\"Sat\",\"Sat\",\"Sat\",\"Thur\"],\"xaxis\":\"x\",\"y\":[1.01,1.66,3.5,3.31,3.61,4.71,2.0,3.12,1.96,3.23,1.71,5.0,1.57,3.0,3.02,3.92,1.67,3.71,3.5,3.35,4.08,2.75,2.23,7.58,3.18,2.34,2.0,2.0,4.3,3.0,1.45,2.5,3.0,2.45,3.27,3.6,2.0,3.07,2.31,5.0,2.24,2.54,3.06,1.32,5.6,3.0,5.0,6.0,2.05,3.0,2.5,2.6,5.2,1.56,4.34,3.51,3.0,1.5,1.76,6.73,3.21,2.0,1.98,3.76,2.64,3.15,2.47,1.0,2.01,2.09,1.97,3.0,3.14,5.0,2.2,1.25,3.08,4.0,3.0,2.71,3.0,3.4,1.83,5.0,2.03,5.17,2.0,4.0,5.85,3.0,3.0,3.5,1.0,4.3,3.25,4.73,4.0,1.5,3.0,1.5,2.5,3.0,2.5,3.48,4.08,1.64,4.06,4.29,3.76,4.0,3.0,1.0,4.0,2.55,4.0,3.5,5.07,1.5,1.8,2.92,2.31,1.68,2.5,2.0,2.52,4.2,1.48,2.0,2.0,2.18,1.5,2.83,1.5,2.0,3.25,1.25,2.0,2.0,2.0,2.75,3.5,6.7,5.0,5.0,2.3,1.5,1.36,1.63,1.73,2.0,2.5,2.0,2.74,2.0,2.0,5.14,5.0,3.75,2.61,2.0,3.5,2.5,2.0,2.0,3.0,3.48,2.24,4.5,1.61,2.0,10.0,3.16,5.15,3.18,4.0,3.11,2.0,2.0,4.0,3.55,3.68,5.65,3.5,6.5,3.0,5.0,3.5,2.0,3.5,4.0,1.5,4.19,2.56,2.02,4.0,1.44,2.0,5.0,2.0,2.0,4.0,2.01,2.0,2.5,4.0,3.23,3.41,3.0,2.03,2.23,2.0,5.16,9.0,2.5,6.5,1.1,3.0,1.5,1.44,3.09,2.2,3.48,1.92,3.0,1.58,2.5,2.0,3.0,2.72,2.88,2.0,3.0,3.39,1.47,3.0,1.25,1.0,1.17,4.67,5.92,2.0,2.0,1.75,3.0],\"yaxis\":\"y\",\"type\":\"bar\"}],                        {\"template\":{\"data\":{\"histogram2dcontour\":[{\"type\":\"histogram2dcontour\",\"colorbar\":{\"outlinewidth\":0,\"ticks\":\"\"},\"colorscale\":[[0.0,\"#0d0887\"],[0.1111111111111111,\"#46039f\"],[0.2222222222222222,\"#7201a8\"],[0.3333333333333333,\"#9c179e\"],[0.4444444444444444,\"#bd3786\"],[0.5555555555555556,\"#d8576b\"],[0.6666666666666666,\"#ed7953\"],[0.7777777777777778,\"#fb9f3a\"],[0.8888888888888888,\"#fdca26\"],[1.0,\"#f0f921\"]]}],\"choropleth\":[{\"type\":\"choropleth\",\"colorbar\":{\"outlinewidth\":0,\"ticks\":\"\"}}],\"histogram2d\":[{\"type\":\"histogram2d\",\"colorbar\":{\"outlinewidth\":0,\"ticks\":\"\"},\"colorscale\":[[0.0,\"#0d0887\"],[0.1111111111111111,\"#46039f\"],[0.2222222222222222,\"#7201a8\"],[0.3333333333333333,\"#9c179e\"],[0.4444444444444444,\"#bd3786\"],[0.5555555555555556,\"#d8576b\"],[0.6666666666666666,\"#ed7953\"],[0.7777777777777778,\"#fb9f3a\"],[0.8888888888888888,\"#fdca26\"],[1.0,\"#f0f921\"]]}],\"heatmap\":[{\"type\":\"heatmap\",\"colorbar\":{\"outlinewidth\":0,\"ticks\":\"\"},\"colorscale\":[[0.0,\"#0d0887\"],[0.1111111111111111,\"#46039f\"],[0.2222222222222222,\"#7201a8\"],[0.3333333333333333,\"#9c179e\"],[0.4444444444444444,\"#bd3786\"],[0.5555555555555556,\"#d8576b\"],[0.6666666666666666,\"#ed7953\"],[0.7777777777777778,\"#fb9f3a\"],[0.8888888888888888,\"#fdca26\"],[1.0,\"#f0f921\"]]}],\"heatmapgl\":[{\"type\":\"heatmapgl\",\"colorbar\":{\"outlinewidth\":0,\"ticks\":\"\"},\"colorscale\":[[0.0,\"#0d0887\"],[0.1111111111111111,\"#46039f\"],[0.2222222222222222,\"#7201a8\"],[0.3333333333333333,\"#9c179e\"],[0.4444444444444444,\"#bd3786\"],[0.5555555555555556,\"#d8576b\"],[0.6666666666666666,\"#ed7953\"],[0.7777777777777778,\"#fb9f3a\"],[0.8888888888888888,\"#fdca26\"],[1.0,\"#f0f921\"]]}],\"contourcarpet\":[{\"type\":\"contourcarpet\",\"colorbar\":{\"outlinewidth\":0,\"ticks\":\"\"}}],\"contour\":[{\"type\":\"contour\",\"colorbar\":{\"outlinewidth\":0,\"ticks\":\"\"},\"colorscale\":[[0.0,\"#0d0887\"],[0.1111111111111111,\"#46039f\"],[0.2222222222222222,\"#7201a8\"],[0.3333333333333333,\"#9c179e\"],[0.4444444444444444,\"#bd3786\"],[0.5555555555555556,\"#d8576b\"],[0.6666666666666666,\"#ed7953\"],[0.7777777777777778,\"#fb9f3a\"],[0.8888888888888888,\"#fdca26\"],[1.0,\"#f0f921\"]]}],\"surface\":[{\"type\":\"surface\",\"colorbar\":{\"outlinewidth\":0,\"ticks\":\"\"},\"colorscale\":[[0.0,\"#0d0887\"],[0.1111111111111111,\"#46039f\"],[0.2222222222222222,\"#7201a8\"],[0.3333333333333333,\"#9c179e\"],[0.4444444444444444,\"#bd3786\"],[0.5555555555555556,\"#d8576b\"],[0.6666666666666666,\"#ed7953\"],[0.7777777777777778,\"#fb9f3a\"],[0.8888888888888888,\"#fdca26\"],[1.0,\"#f0f921\"]]}],\"mesh3d\":[{\"type\":\"mesh3d\",\"colorbar\":{\"outlinewidth\":0,\"ticks\":\"\"}}],\"scatter\":[{\"fillpattern\":{\"fillmode\":\"overlay\",\"size\":10,\"solidity\":0.2},\"type\":\"scatter\"}],\"parcoords\":[{\"type\":\"parcoords\",\"line\":{\"colorbar\":{\"outlinewidth\":0,\"ticks\":\"\"}}}],\"scatterpolargl\":[{\"type\":\"scatterpolargl\",\"marker\":{\"colorbar\":{\"outlinewidth\":0,\"ticks\":\"\"}}}],\"bar\":[{\"error_x\":{\"color\":\"#2a3f5f\"},\"error_y\":{\"color\":\"#2a3f5f\"},\"marker\":{\"line\":{\"color\":\"#E5ECF6\",\"width\":0.5},\"pattern\":{\"fillmode\":\"overlay\",\"size\":10,\"solidity\":0.2}},\"type\":\"bar\"}],\"scattergeo\":[{\"type\":\"scattergeo\",\"marker\":{\"colorbar\":{\"outlinewidth\":0,\"ticks\":\"\"}}}],\"scatterpolar\":[{\"type\":\"scatterpolar\",\"marker\":{\"colorbar\":{\"outlinewidth\":0,\"ticks\":\"\"}}}],\"histogram\":[{\"marker\":{\"pattern\":{\"fillmode\":\"overlay\",\"size\":10,\"solidity\":0.2}},\"type\":\"histogram\"}],\"scattergl\":[{\"type\":\"scattergl\",\"marker\":{\"colorbar\":{\"outlinewidth\":0,\"ticks\":\"\"}}}],\"scatter3d\":[{\"type\":\"scatter3d\",\"line\":{\"colorbar\":{\"outlinewidth\":0,\"ticks\":\"\"}},\"marker\":{\"colorbar\":{\"outlinewidth\":0,\"ticks\":\"\"}}}],\"scattermapbox\":[{\"type\":\"scattermapbox\",\"marker\":{\"colorbar\":{\"outlinewidth\":0,\"ticks\":\"\"}}}],\"scatterternary\":[{\"type\":\"scatterternary\",\"marker\":{\"colorbar\":{\"outlinewidth\":0,\"ticks\":\"\"}}}],\"scattercarpet\":[{\"type\":\"scattercarpet\",\"marker\":{\"colorbar\":{\"outlinewidth\":0,\"ticks\":\"\"}}}],\"carpet\":[{\"aaxis\":{\"endlinecolor\":\"#2a3f5f\",\"gridcolor\":\"white\",\"linecolor\":\"white\",\"minorgridcolor\":\"white\",\"startlinecolor\":\"#2a3f5f\"},\"baxis\":{\"endlinecolor\":\"#2a3f5f\",\"gridcolor\":\"white\",\"linecolor\":\"white\",\"minorgridcolor\":\"white\",\"startlinecolor\":\"#2a3f5f\"},\"type\":\"carpet\"}],\"table\":[{\"cells\":{\"fill\":{\"color\":\"#EBF0F8\"},\"line\":{\"color\":\"white\"}},\"header\":{\"fill\":{\"color\":\"#C8D4E3\"},\"line\":{\"color\":\"white\"}},\"type\":\"table\"}],\"barpolar\":[{\"marker\":{\"line\":{\"color\":\"#E5ECF6\",\"width\":0.5},\"pattern\":{\"fillmode\":\"overlay\",\"size\":10,\"solidity\":0.2}},\"type\":\"barpolar\"}],\"pie\":[{\"automargin\":true,\"type\":\"pie\"}]},\"layout\":{\"autotypenumbers\":\"strict\",\"colorway\":[\"#636efa\",\"#EF553B\",\"#00cc96\",\"#ab63fa\",\"#FFA15A\",\"#19d3f3\",\"#FF6692\",\"#B6E880\",\"#FF97FF\",\"#FECB52\"],\"font\":{\"color\":\"#2a3f5f\"},\"hovermode\":\"closest\",\"hoverlabel\":{\"align\":\"left\"},\"paper_bgcolor\":\"white\",\"plot_bgcolor\":\"#E5ECF6\",\"polar\":{\"bgcolor\":\"#E5ECF6\",\"angularaxis\":{\"gridcolor\":\"white\",\"linecolor\":\"white\",\"ticks\":\"\"},\"radialaxis\":{\"gridcolor\":\"white\",\"linecolor\":\"white\",\"ticks\":\"\"}},\"ternary\":{\"bgcolor\":\"#E5ECF6\",\"aaxis\":{\"gridcolor\":\"white\",\"linecolor\":\"white\",\"ticks\":\"\"},\"baxis\":{\"gridcolor\":\"white\",\"linecolor\":\"white\",\"ticks\":\"\"},\"caxis\":{\"gridcolor\":\"white\",\"linecolor\":\"white\",\"ticks\":\"\"}},\"coloraxis\":{\"colorbar\":{\"outlinewidth\":0,\"ticks\":\"\"}},\"colorscale\":{\"sequential\":[[0.0,\"#0d0887\"],[0.1111111111111111,\"#46039f\"],[0.2222222222222222,\"#7201a8\"],[0.3333333333333333,\"#9c179e\"],[0.4444444444444444,\"#bd3786\"],[0.5555555555555556,\"#d8576b\"],[0.6666666666666666,\"#ed7953\"],[0.7777777777777778,\"#fb9f3a\"],[0.8888888888888888,\"#fdca26\"],[1.0,\"#f0f921\"]],\"sequentialminus\":[[0.0,\"#0d0887\"],[0.1111111111111111,\"#46039f\"],[0.2222222222222222,\"#7201a8\"],[0.3333333333333333,\"#9c179e\"],[0.4444444444444444,\"#bd3786\"],[0.5555555555555556,\"#d8576b\"],[0.6666666666666666,\"#ed7953\"],[0.7777777777777778,\"#fb9f3a\"],[0.8888888888888888,\"#fdca26\"],[1.0,\"#f0f921\"]],\"diverging\":[[0,\"#8e0152\"],[0.1,\"#c51b7d\"],[0.2,\"#de77ae\"],[0.3,\"#f1b6da\"],[0.4,\"#fde0ef\"],[0.5,\"#f7f7f7\"],[0.6,\"#e6f5d0\"],[0.7,\"#b8e186\"],[0.8,\"#7fbc41\"],[0.9,\"#4d9221\"],[1,\"#276419\"]]},\"xaxis\":{\"gridcolor\":\"white\",\"linecolor\":\"white\",\"ticks\":\"\",\"title\":{\"standoff\":15},\"zerolinecolor\":\"white\",\"automargin\":true,\"zerolinewidth\":2},\"yaxis\":{\"gridcolor\":\"white\",\"linecolor\":\"white\",\"ticks\":\"\",\"title\":{\"standoff\":15},\"zerolinecolor\":\"white\",\"automargin\":true,\"zerolinewidth\":2},\"scene\":{\"xaxis\":{\"backgroundcolor\":\"#E5ECF6\",\"gridcolor\":\"white\",\"linecolor\":\"white\",\"showbackground\":true,\"ticks\":\"\",\"zerolinecolor\":\"white\",\"gridwidth\":2},\"yaxis\":{\"backgroundcolor\":\"#E5ECF6\",\"gridcolor\":\"white\",\"linecolor\":\"white\",\"showbackground\":true,\"ticks\":\"\",\"zerolinecolor\":\"white\",\"gridwidth\":2},\"zaxis\":{\"backgroundcolor\":\"#E5ECF6\",\"gridcolor\":\"white\",\"linecolor\":\"white\",\"showbackground\":true,\"ticks\":\"\",\"zerolinecolor\":\"white\",\"gridwidth\":2}},\"shapedefaults\":{\"line\":{\"color\":\"#2a3f5f\"}},\"annotationdefaults\":{\"arrowcolor\":\"#2a3f5f\",\"arrowhead\":0,\"arrowwidth\":1},\"geo\":{\"bgcolor\":\"white\",\"landcolor\":\"#E5ECF6\",\"subunitcolor\":\"white\",\"showland\":true,\"showlakes\":true,\"lakecolor\":\"white\"},\"title\":{\"x\":0.05},\"mapbox\":{\"style\":\"light\"}}},\"xaxis\":{\"anchor\":\"y\",\"domain\":[0.0,1.0],\"title\":{\"text\":\"day\"}},\"yaxis\":{\"anchor\":\"x\",\"domain\":[0.0,1.0],\"title\":{\"text\":\"tip\"}},\"legend\":{\"tracegroupgap\":0},\"title\":{\"text\":\"Day vs Tip\"},\"barmode\":\"relative\"},                        {\"responsive\": true}                    ).then(function(){\n",
              "                            \n",
              "var gd = document.getElementById('938d92da-27a7-48fa-8319-3f3f416209a6');\n",
              "var x = new MutationObserver(function (mutations, observer) {{\n",
              "        var display = window.getComputedStyle(gd).display;\n",
              "        if (!display || display === 'none') {{\n",
              "            console.log([gd, 'removed!']);\n",
              "            Plotly.purge(gd);\n",
              "            observer.disconnect();\n",
              "        }}\n",
              "}});\n",
              "\n",
              "// Listen for the removal of the full notebook cells\n",
              "var notebookContainer = gd.closest('#notebook-container');\n",
              "if (notebookContainer) {{\n",
              "    x.observe(notebookContainer, {childList: true});\n",
              "}}\n",
              "\n",
              "// Listen for the clearing of the current output cell\n",
              "var outputEl = gd.closest('.output');\n",
              "if (outputEl) {{\n",
              "    x.observe(outputEl, {childList: true});\n",
              "}}\n",
              "\n",
              "                        })                };                            </script>        </div>\n",
              "</body>\n",
              "</html>"
            ]
          },
          "metadata": {}
        }
      ]
    },
    {
      "cell_type": "code",
      "source": [
        "pivot_table = df.pivot_table(values='tip', index='sex', columns='day', aggfunc='count')\n",
        "\n",
        "print(pivot_table)"
      ],
      "metadata": {
        "colab": {
          "base_uri": "https://localhost:8080/"
        },
        "id": "B_kxKP63b2Rz",
        "outputId": "ab0f8480-dc49-4710-d6f5-fb243323b593"
      },
      "execution_count": 45,
      "outputs": [
        {
          "output_type": "stream",
          "name": "stdout",
          "text": [
            "day     Thur  Fri  Sat  Sun\n",
            "sex                        \n",
            "Male      30   10   59   58\n",
            "Female    32    9   28   18\n"
          ]
        }
      ]
    }
  ]
}